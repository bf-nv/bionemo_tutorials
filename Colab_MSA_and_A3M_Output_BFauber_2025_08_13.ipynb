{
  "cells": [
    {
      "cell_type": "markdown",
      "metadata": {
        "id": "GZ_5U-JxQQhQ"
      },
      "source": [
        "# Running MSA-Search NIM in Google Colab Environment\n",
        "\n",
        "Runs MSA-Search NIM and saves result as `A3M` format file.\n",
        "\n",
        "MSA-Search NIM: https://build.nvidia.com/colabfold/msa-search\n",
        "\n",
        "13Aug2025"
      ]
    },
    {
      "cell_type": "markdown",
      "metadata": {
        "id": "IxeMs4KwQQhR"
      },
      "source": [
        "## 1.1 Set Up the Environment"
      ]
    },
    {
      "cell_type": "code",
      "execution_count": 19,
      "metadata": {
        "colab": {
          "base_uri": "https://localhost:8080/"
        },
        "id": "3B5xoy0RQQhR",
        "outputId": "72645f7e-9b94-4dee-a5b1-3c804553ae6e"
      },
      "outputs": [
        {
          "output_type": "stream",
          "name": "stdout",
          "text": [
            "Requirement already satisfied: pandas in /usr/local/lib/python3.11/dist-packages (2.2.2)\n",
            "Requirement already satisfied: numpy in /usr/local/lib/python3.11/dist-packages (2.0.2)\n",
            "Requirement already satisfied: seaborn in /usr/local/lib/python3.11/dist-packages (0.13.2)\n",
            "Requirement already satisfied: matplotlib in /usr/local/lib/python3.11/dist-packages (3.10.0)\n",
            "Requirement already satisfied: httpx in /usr/local/lib/python3.11/dist-packages (0.28.1)\n",
            "Requirement already satisfied: fastapi[standard] in /usr/local/lib/python3.11/dist-packages (0.116.1)\n",
            "Requirement already satisfied: python-dateutil>=2.8.2 in /usr/local/lib/python3.11/dist-packages (from pandas) (2.9.0.post0)\n",
            "Requirement already satisfied: pytz>=2020.1 in /usr/local/lib/python3.11/dist-packages (from pandas) (2025.2)\n",
            "Requirement already satisfied: tzdata>=2022.7 in /usr/local/lib/python3.11/dist-packages (from pandas) (2025.2)\n",
            "Requirement already satisfied: contourpy>=1.0.1 in /usr/local/lib/python3.11/dist-packages (from matplotlib) (1.3.3)\n",
            "Requirement already satisfied: cycler>=0.10 in /usr/local/lib/python3.11/dist-packages (from matplotlib) (0.12.1)\n",
            "Requirement already satisfied: fonttools>=4.22.0 in /usr/local/lib/python3.11/dist-packages (from matplotlib) (4.59.0)\n",
            "Requirement already satisfied: kiwisolver>=1.3.1 in /usr/local/lib/python3.11/dist-packages (from matplotlib) (1.4.9)\n",
            "Requirement already satisfied: packaging>=20.0 in /usr/local/lib/python3.11/dist-packages (from matplotlib) (25.0)\n",
            "Requirement already satisfied: pillow>=8 in /usr/local/lib/python3.11/dist-packages (from matplotlib) (11.3.0)\n",
            "Requirement already satisfied: pyparsing>=2.3.1 in /usr/local/lib/python3.11/dist-packages (from matplotlib) (3.2.3)\n",
            "Requirement already satisfied: anyio in /usr/local/lib/python3.11/dist-packages (from httpx) (4.10.0)\n",
            "Requirement already satisfied: certifi in /usr/local/lib/python3.11/dist-packages (from httpx) (2025.8.3)\n",
            "Requirement already satisfied: httpcore==1.* in /usr/local/lib/python3.11/dist-packages (from httpx) (1.0.9)\n",
            "Requirement already satisfied: idna in /usr/local/lib/python3.11/dist-packages (from httpx) (3.10)\n",
            "Requirement already satisfied: h11>=0.16 in /usr/local/lib/python3.11/dist-packages (from httpcore==1.*->httpx) (0.16.0)\n",
            "Requirement already satisfied: starlette<0.48.0,>=0.40.0 in /usr/local/lib/python3.11/dist-packages (from fastapi[standard]) (0.47.2)\n",
            "Requirement already satisfied: pydantic!=1.8,!=1.8.1,!=2.0.0,!=2.0.1,!=2.1.0,<3.0.0,>=1.7.4 in /usr/local/lib/python3.11/dist-packages (from fastapi[standard]) (2.11.7)\n",
            "Requirement already satisfied: typing-extensions>=4.8.0 in /usr/local/lib/python3.11/dist-packages (from fastapi[standard]) (4.14.1)\n",
            "Requirement already satisfied: fastapi-cli>=0.0.8 in /usr/local/lib/python3.11/dist-packages (from fastapi-cli[standard]>=0.0.8; extra == \"standard\"->fastapi[standard]) (0.0.8)\n",
            "Requirement already satisfied: jinja2>=3.1.5 in /usr/local/lib/python3.11/dist-packages (from fastapi[standard]) (3.1.6)\n",
            "Requirement already satisfied: python-multipart>=0.0.18 in /usr/local/lib/python3.11/dist-packages (from fastapi[standard]) (0.0.20)\n",
            "Requirement already satisfied: email-validator>=2.0.0 in /usr/local/lib/python3.11/dist-packages (from fastapi[standard]) (2.2.0)\n",
            "Requirement already satisfied: uvicorn>=0.12.0 in /usr/local/lib/python3.11/dist-packages (from uvicorn[standard]>=0.12.0; extra == \"standard\"->fastapi[standard]) (0.35.0)\n",
            "Requirement already satisfied: dnspython>=2.0.0 in /usr/local/lib/python3.11/dist-packages (from email-validator>=2.0.0->fastapi[standard]) (2.7.0)\n",
            "Requirement already satisfied: typer>=0.15.1 in /usr/local/lib/python3.11/dist-packages (from fastapi-cli>=0.0.8->fastapi-cli[standard]>=0.0.8; extra == \"standard\"->fastapi[standard]) (0.16.0)\n",
            "Requirement already satisfied: rich-toolkit>=0.14.8 in /usr/local/lib/python3.11/dist-packages (from fastapi-cli>=0.0.8->fastapi-cli[standard]>=0.0.8; extra == \"standard\"->fastapi[standard]) (0.15.0)\n",
            "Requirement already satisfied: fastapi-cloud-cli>=0.1.1 in /usr/local/lib/python3.11/dist-packages (from fastapi-cli[standard]>=0.0.8; extra == \"standard\"->fastapi[standard]) (0.1.5)\n",
            "Requirement already satisfied: MarkupSafe>=2.0 in /usr/local/lib/python3.11/dist-packages (from jinja2>=3.1.5->fastapi[standard]) (3.0.2)\n",
            "Requirement already satisfied: annotated-types>=0.6.0 in /usr/local/lib/python3.11/dist-packages (from pydantic!=1.8,!=1.8.1,!=2.0.0,!=2.0.1,!=2.1.0,<3.0.0,>=1.7.4->fastapi[standard]) (0.7.0)\n",
            "Requirement already satisfied: pydantic-core==2.33.2 in /usr/local/lib/python3.11/dist-packages (from pydantic!=1.8,!=1.8.1,!=2.0.0,!=2.0.1,!=2.1.0,<3.0.0,>=1.7.4->fastapi[standard]) (2.33.2)\n",
            "Requirement already satisfied: typing-inspection>=0.4.0 in /usr/local/lib/python3.11/dist-packages (from pydantic!=1.8,!=1.8.1,!=2.0.0,!=2.0.1,!=2.1.0,<3.0.0,>=1.7.4->fastapi[standard]) (0.4.1)\n",
            "Requirement already satisfied: six>=1.5 in /usr/local/lib/python3.11/dist-packages (from python-dateutil>=2.8.2->pandas) (1.17.0)\n",
            "Requirement already satisfied: sniffio>=1.1 in /usr/local/lib/python3.11/dist-packages (from anyio->httpx) (1.3.1)\n",
            "Requirement already satisfied: click>=7.0 in /usr/local/lib/python3.11/dist-packages (from uvicorn>=0.12.0->uvicorn[standard]>=0.12.0; extra == \"standard\"->fastapi[standard]) (8.2.1)\n",
            "Requirement already satisfied: httptools>=0.6.3 in /usr/local/lib/python3.11/dist-packages (from uvicorn[standard]>=0.12.0; extra == \"standard\"->fastapi[standard]) (0.6.4)\n",
            "Requirement already satisfied: python-dotenv>=0.13 in /usr/local/lib/python3.11/dist-packages (from uvicorn[standard]>=0.12.0; extra == \"standard\"->fastapi[standard]) (1.1.1)\n",
            "Requirement already satisfied: pyyaml>=5.1 in /usr/local/lib/python3.11/dist-packages (from uvicorn[standard]>=0.12.0; extra == \"standard\"->fastapi[standard]) (6.0.2)\n",
            "Requirement already satisfied: uvloop>=0.15.1 in /usr/local/lib/python3.11/dist-packages (from uvicorn[standard]>=0.12.0; extra == \"standard\"->fastapi[standard]) (0.21.0)\n",
            "Requirement already satisfied: watchfiles>=0.13 in /usr/local/lib/python3.11/dist-packages (from uvicorn[standard]>=0.12.0; extra == \"standard\"->fastapi[standard]) (1.1.0)\n",
            "Requirement already satisfied: websockets>=10.4 in /usr/local/lib/python3.11/dist-packages (from uvicorn[standard]>=0.12.0; extra == \"standard\"->fastapi[standard]) (15.0.1)\n",
            "Requirement already satisfied: rignore>=0.5.1 in /usr/local/lib/python3.11/dist-packages (from fastapi-cloud-cli>=0.1.1->fastapi-cli[standard]>=0.0.8; extra == \"standard\"->fastapi[standard]) (0.6.4)\n",
            "Requirement already satisfied: sentry-sdk>=2.20.0 in /usr/local/lib/python3.11/dist-packages (from fastapi-cloud-cli>=0.1.1->fastapi-cli[standard]>=0.0.8; extra == \"standard\"->fastapi[standard]) (2.34.1)\n",
            "Requirement already satisfied: rich>=13.7.1 in /usr/local/lib/python3.11/dist-packages (from rich-toolkit>=0.14.8->fastapi-cli>=0.0.8->fastapi-cli[standard]>=0.0.8; extra == \"standard\"->fastapi[standard]) (13.9.4)\n",
            "Requirement already satisfied: shellingham>=1.3.0 in /usr/local/lib/python3.11/dist-packages (from typer>=0.15.1->fastapi-cli>=0.0.8->fastapi-cli[standard]>=0.0.8; extra == \"standard\"->fastapi[standard]) (1.5.4)\n",
            "Requirement already satisfied: markdown-it-py>=2.2.0 in /usr/local/lib/python3.11/dist-packages (from rich>=13.7.1->rich-toolkit>=0.14.8->fastapi-cli>=0.0.8->fastapi-cli[standard]>=0.0.8; extra == \"standard\"->fastapi[standard]) (4.0.0)\n",
            "Requirement already satisfied: pygments<3.0.0,>=2.13.0 in /usr/local/lib/python3.11/dist-packages (from rich>=13.7.1->rich-toolkit>=0.14.8->fastapi-cli>=0.0.8->fastapi-cli[standard]>=0.0.8; extra == \"standard\"->fastapi[standard]) (2.19.2)\n",
            "Requirement already satisfied: urllib3>=1.26.11 in /usr/local/lib/python3.11/dist-packages (from sentry-sdk>=2.20.0->fastapi-cloud-cli>=0.1.1->fastapi-cli[standard]>=0.0.8; extra == \"standard\"->fastapi[standard]) (2.5.0)\n",
            "Requirement already satisfied: mdurl~=0.1 in /usr/local/lib/python3.11/dist-packages (from markdown-it-py>=2.2.0->rich>=13.7.1->rich-toolkit>=0.14.8->fastapi-cli>=0.0.8->fastapi-cli[standard]>=0.0.8; extra == \"standard\"->fastapi[standard]) (0.1.2)\n"
          ]
        }
      ],
      "source": [
        "!pip install pandas numpy seaborn matplotlib httpx \"fastapi[standard]\""
      ]
    },
    {
      "cell_type": "code",
      "execution_count": 36,
      "metadata": {
        "id": "-Kwwr0x8QQhR"
      },
      "outputs": [],
      "source": [
        "import json, os, requests, re, shutil\n",
        "from google.colab import userdata\n",
        "\n",
        "from typing import Any, Dict\n",
        "from pathlib import Path"
      ]
    },
    {
      "cell_type": "markdown",
      "metadata": {
        "id": "RvI9Bw7rQQhR"
      },
      "source": [
        "## 1.2 Set Up `output` Directory and `API_KEY`\n",
        "\n",
        "**NOTE:** Be sure to follow the steps in the README to embed your NVIDIA `API_KEY` into your Google Colab environment."
      ]
    },
    {
      "cell_type": "code",
      "execution_count": 37,
      "metadata": {
        "id": "ylQVJvcvQQhR"
      },
      "outputs": [],
      "source": [
        "def prepare_output_directory(output):\n",
        "    \"\"\"\n",
        "    Prepare the output directory\n",
        "    output: str, the output directory\n",
        "    return: None\n",
        "    \"\"\"\n",
        "    # Overwrite the output directory\n",
        "    if os.path.exists(output):\n",
        "        shutil.rmtree(output)\n",
        "    os.makedirs(output)"
      ]
    },
    {
      "cell_type": "code",
      "execution_count": 38,
      "metadata": {
        "id": "9H2iqQG4QQhR"
      },
      "outputs": [],
      "source": [
        "API_KEY = userdata.get('API_KEY')\n",
        "\n",
        "# Prepare `output_dir` for saving files\n",
        "output_dir = \"/content/output\"\n",
        "prepare_output_directory(output_dir)"
      ]
    },
    {
      "cell_type": "markdown",
      "metadata": {
        "id": "uoj321rTQQhR"
      },
      "source": [
        "#### Define Protein Sequence and Databases to use for MSA-Search"
      ]
    },
    {
      "cell_type": "code",
      "execution_count": 39,
      "metadata": {
        "id": "hKRtkuWYQQhS"
      },
      "outputs": [],
      "source": [
        "sequence = \"MHHHHHHGENLYFQGSAPYASLTEIEHLVQSVCKSYRETCQLRLEDLLRQRSNIFSREEVTGYQRKSMWEMWERCAHHLTEAIQYVVEFAKRLSGFMELCQNDQIVLLKAGAMEVVLVRMCRAYNADNRTVFFEGKYGGMELFRALGCSELISSIFDFSHSLSALHFSEDEIALYTALVLINAHRPGLQEKRKVEQLQYNLELAFHHHLCKTHRQSILAKLPPKGKLRSLCSQHVERLQIFQHLHPIVVQAAFPPLYKELFSGNS\"\n",
        "\n",
        "databases = ['Uniref30_2302', 'colabfold_envdb_202108', 'PDB70_220313']"
      ]
    },
    {
      "cell_type": "markdown",
      "metadata": {
        "id": "x7iH2uQvQQhS"
      },
      "source": [
        "## 1.3 Set Up and Run `MSA-Search`"
      ]
    },
    {
      "cell_type": "code",
      "execution_count": 40,
      "metadata": {
        "id": "iqazKTWbQQhS"
      },
      "outputs": [],
      "source": [
        "msa_search_url = \"https://health.api.nvidia.com/v1/biology/colabfold/msa-search/predict\"\n",
        "\n",
        "payload = {\n",
        "    \"sequence\": sequence,\n",
        "    \"databases\": databases,\n",
        "    \"e_value\": 0.0001,\n",
        "    \"iterations\": 1,\n",
        "    \"max_msa_sequences\": 10000,\n",
        "    \"run_structural_template_search\": False,\n",
        "    \"output_alignment_formats\": [\"a3m\"],\n",
        "}\n",
        "\n",
        "headers = {\n",
        "    \"Authorization\": f\"Bearer {API_KEY}\",\n",
        "    \"content-type\": \"application/json\",\n",
        "    \"NVCF-POLL-SECONDS\": \"300\",\n",
        "}\n",
        "\n",
        "# Call MSA-Search NIM\n",
        "response = requests.post(msa_search_url, json=payload, headers=headers)\n",
        "msa_response_dict = response.json()\n",
        "\n",
        "with open('msa_output.json', 'w') as json_file:\n",
        "    json.dump(msa_response_dict, json_file, indent=4)"
      ]
    },
    {
      "cell_type": "markdown",
      "metadata": {
        "id": "HGfAibuMQQhS"
      },
      "source": [
        "## 1.4 Merge and Sort Alignments from `MSA-Search` into a Single `A3M` File"
      ]
    },
    {
      "cell_type": "code",
      "execution_count": 41,
      "metadata": {
        "id": "vbwqlUa-QQhS"
      },
      "outputs": [],
      "source": [
        "def parse_sequences(input_string, n, sequence):\n",
        "    \"\"\"\n",
        "    Parse the output of alignments from the MSA-Search NIM to be used downstream\n",
        "\n",
        "    Args:\n",
        "        input_string (str): The output file of alignments in a string format\n",
        "        n (int): The amount of alignments to return from the output when parsing\n",
        "        sequence (str): The query sequence for alignment\n",
        "\n",
        "    Returns:\n",
        "        list: A list of alignment identifiers and sequences, starting with the query,\n",
        "              where the amount of sequences is given by n\n",
        "    \"\"\"\n",
        "    # Output is parsed to have a line for the sequence id and sequence itself so `n` returns correlates to n*2 lines\n",
        "    n = n * 2\n",
        "\n",
        "    # First, handle the `Query` block separately\n",
        "    lines = input_string.strip().split('\\n')\n",
        "\n",
        "    # Now process the rest of the lines\n",
        "    remaining_string = \"\\n\".join(lines[:])\n",
        "\n",
        "    # Regex to find blocks starting with `>` and then followed by a sequence.\n",
        "    pattern = re.compile(r'\\n>(.*?)\\n(.*?)(?=\\n>|\\Z)', re.DOTALL)\n",
        "\n",
        "    matches = pattern.finditer(remaining_string)\n",
        "\n",
        "    output_list = []\n",
        "    output_list_to_order = []\n",
        "\n",
        "    for num_match, match in enumerate(matches):\n",
        "        # The name is the first capturing group, split by tab and take the first part\n",
        "        name_full = match.group(1).split('\\t')[0]\n",
        "        SW_score = match.group(1).split('\\t')[1]\n",
        "\n",
        "        # The sequence is the second capturing group\n",
        "        sequence_raw = match.group(2).strip()\n",
        "        sequence = ''.join(char for char in sequence_raw if char.isupper() or not char.isalpha())\n",
        "\n",
        "        # Store the aligned sequence in the list of outputs by name, sequence, Smith-Waterman score\n",
        "        output_list_to_order.append((f'>{name_full}', sequence, int(SW_score)))\n",
        "\n",
        "    output_lines = output_list_to_order[:n]\n",
        "\n",
        "    return output_lines\n",
        "\n",
        "\n",
        "def write_alignments_to_a3m(alignments_data, output_file_path, description=\"MSA alignments\"):\n",
        "    \"\"\"\n",
        "    Write alignment data to a3M format file.\n",
        "\n",
        "    Args:\n",
        "        alignments_data: Either a list of alternating headers/sequences or a string containing alignments\n",
        "        output_file_path (str): Path for the output a3M file\n",
        "        description (str): Description for the file\n",
        "\n",
        "    Returns:\n",
        "        str: Path to the created a3M file\n",
        "    \"\"\"\n",
        "    output_path = Path(output_file_path)\n",
        "\n",
        "    # Handle both list and string input formats\n",
        "    if isinstance(alignments_data, list):\n",
        "        alignments_string = '\\n'.join(alignments_data)\n",
        "    elif isinstance(alignments_data, str):\n",
        "        alignments_string = alignments_data\n",
        "    else:\n",
        "        raise ValueError(\"alignments_data must be either a list or string\")\n",
        "\n",
        "    # Count sequences for reporting\n",
        "    sequence_count = alignments_string.count('>')\n",
        "\n",
        "    print(f\"Writing {sequence_count} sequences to a3M format: {output_path}\")\n",
        "\n",
        "    try:\n",
        "        with open(output_path, 'w', encoding='utf-8') as f:\n",
        "            # Write the alignments\n",
        "            f.write(alignments_string)\n",
        "\n",
        "            # Ensure file ends with newline\n",
        "            if not alignments_string.endswith('\\n'):\n",
        "                f.write('\\n')\n",
        "\n",
        "        # Verify the file was created successfully\n",
        "        if output_path.exists():\n",
        "            file_size = output_path.stat().st_size\n",
        "            print(f\"Successfully created a3M file:\")\n",
        "            print(f\"File: {output_path}\")\n",
        "            print(f\"Size: {file_size:,} bytes\")\n",
        "            print(f\"Sequences: {sequence_count}\")\n",
        "\n",
        "            return str(output_path)\n",
        "        else:\n",
        "            raise IOError(f\"Failed to create file {output_path}\")\n",
        "\n",
        "    except Exception as e:\n",
        "        print(f\"Error writing a3M file: {e}\")\n",
        "        raise\n",
        "\n",
        "\n",
        "def process_msa_alignments(msa_response_dict, databases, sequence, max_sequences_per_db=10000, output_file=\"merged_alignments_protein.a3m\"):\n",
        "    \"\"\"\n",
        "    Process MSA alignments from multiple databases and merge them into A3M format.\n",
        "\n",
        "    Args:\n",
        "        msa_response_dict (dict): MSA response data containing alignments\n",
        "        databases (list): List of database names to process\n",
        "        sequence (str): Query sequence for alignment\n",
        "        max_sequences_per_db (int): Maximum number of sequences to parse per database\n",
        "        output_file (str): Output A3M file path\n",
        "\n",
        "    Returns:\n",
        "        tuple: (merged_alignments_protein, a3m_file_path)\n",
        "            - merged_alignments_protein: List of merged alignments\n",
        "            - a3m_file_path: Path to the created A3M file\n",
        "    \"\"\"\n",
        "    all_parsed_dataset_output = []\n",
        "\n",
        "    for num_done, database in enumerate(databases):\n",
        "        print(f\"Parsing results from database: {database}\")\n",
        "\n",
        "        # Pull string of alignments stored in json output for specific dataset\n",
        "        a3m_dict_msa_search = msa_response_dict['alignments'][database]['a3m']['alignment']\n",
        "\n",
        "        a3m_dict_msa_search_parsed = parse_sequences(a3m_dict_msa_search, max_sequences_per_db, sequence)\n",
        "\n",
        "        num_sequences_aligned = (len(a3m_dict_msa_search_parsed))\n",
        "        print(f\"Number of sequences aligned: {num_sequences_aligned}\")\n",
        "\n",
        "        all_parsed_dataset_output.extend(a3m_dict_msa_search_parsed)\n",
        "\n",
        "    # Sort all the alignments based off of the alignment score\n",
        "    all_parsed_dataset_output.sort(key=lambda x: x[2], reverse=True)\n",
        "\n",
        "    # Now that the alignments across all datasets are sorted, reformat each entry to name and sequence\n",
        "    sorted_parsed_output_formatted = []\n",
        "    for align_tuple in all_parsed_dataset_output:\n",
        "        sorted_parsed_output_formatted.append(align_tuple[0])\n",
        "        sorted_parsed_output_formatted.append(align_tuple[1])\n",
        "\n",
        "    merged_alignments_protein = [f\">query_sequence\\n{sequence}\"]\n",
        "    merged_alignments_protein.extend(sorted_parsed_output_formatted)\n",
        "\n",
        "    print(f\"Total merged alignments: {len(merged_alignments_protein)}\")\n",
        "\n",
        "    # Write merged_alignments_protein to a3M format\n",
        "    a3m_file_path = write_alignments_to_a3m(\n",
        "        merged_alignments_protein,\n",
        "        output_file,\n",
        "        description=f\"Merged protein alignments from MSA-Search NIM ({', '.join(databases)})\"\n",
        "    )\n",
        "\n",
        "    return merged_alignments_protein, a3m_file_path\n",
        "\n",
        "\n",
        "def write_filtered_a3m(alignments_data, output_file_path, max_sequences=None, min_length=None, description=\"Filtered MSA alignments\"):\n",
        "    \"\"\"\n",
        "    Write alignment data to a3M format with optional filtering.\n",
        "\n",
        "    Args:\n",
        "        alignments_data: String containing alignments in FASTA-like format\n",
        "        output_file_path (str): Path for the output a3M file\n",
        "        max_sequences (int, optional): Maximum number of sequences to include\n",
        "        min_length (int, optional): Minimum sequence length (excluding gaps)\n",
        "        description (str): Description for the file\n",
        "\n",
        "    Returns:\n",
        "        str: Path to the created a3M file\n",
        "    \"\"\"\n",
        "    output_path = Path(output_file_path)\n",
        "\n",
        "    # Parse sequences from the input data\n",
        "    if isinstance(alignments_data, str):\n",
        "        lines = alignments_data.strip().split('\\n')\n",
        "    else:\n",
        "        lines = '\\n'.join(alignments_data).strip().split('\\n')\n",
        "\n",
        "    sequences = []\n",
        "    current_header = None\n",
        "    current_sequence = \"\"\n",
        "\n",
        "    for line in lines:\n",
        "        line = line.strip()\n",
        "        if line.startswith('>'):\n",
        "            # Save previous sequence if it exists\n",
        "            if current_header is not None:\n",
        "                sequences.append((current_header, current_sequence))\n",
        "            current_header = line\n",
        "            current_sequence = \"\"\n",
        "        else:\n",
        "            current_sequence += line\n",
        "\n",
        "    # Don't forget the last sequence\n",
        "    if current_header is not None:\n",
        "        sequences.append((current_header, current_sequence))\n",
        "\n",
        "    print(f\"Parsed {len(sequences)} sequences from input data\")\n",
        "\n",
        "    # Apply filters\n",
        "    filtered_sequences = []\n",
        "\n",
        "    for header, sequence in sequences:\n",
        "        # Apply minimum length filter (count non-gap characters)\n",
        "        if min_length is not None:\n",
        "            non_gap_length = len(sequence.replace('-', '').replace('.', ''))\n",
        "            if non_gap_length < min_length:\n",
        "                continue\n",
        "\n",
        "        filtered_sequences.append((header, sequence))\n",
        "\n",
        "        # Apply maximum sequences limit\n",
        "        if max_sequences is not None and len(filtered_sequences) >= max_sequences:\n",
        "            break\n",
        "\n",
        "    print(f\"After filtering: {len(filtered_sequences)} sequences\")\n",
        "    if max_sequences:\n",
        "        print(f\"Max sequences limit: {max_sequences}\")\n",
        "    if min_length:\n",
        "        print(f\"Min length filter: {min_length}\")\n",
        "\n",
        "    # Write to a3M format\n",
        "    try:\n",
        "        with open(output_path, 'w', encoding='utf-8') as f:\n",
        "            # Write sequences\n",
        "            for header, sequence in filtered_sequences:\n",
        "                f.write(f\"{header}\\n{sequence}\\n\")\n",
        "\n",
        "        # Report success\n",
        "        file_size = output_path.stat().st_size\n",
        "        print(f\"Successfully created filtered a3M file:\")\n",
        "        print(f\"File: {output_path}\")\n",
        "        print(f\"Size: {file_size:,} bytes\")\n",
        "        print(f\"Sequences: {len(filtered_sequences)}\")\n",
        "\n",
        "        return str(output_path)\n",
        "\n",
        "    except Exception as e:\n",
        "        print(f\"Error writing filtered a3M file: {e}\")\n",
        "        raise\n",
        "\n",
        "\n",
        "def analyze_a3m_file(file_path):\n",
        "    \"\"\"\n",
        "    Analyze an a3M file and provide statistics.\n",
        "\n",
        "    Args:\n",
        "        file_path (str): Path to the a3M file\n",
        "    \"\"\"\n",
        "    file_path = Path(file_path)\n",
        "\n",
        "    if not file_path.exists():\n",
        "        print(f\"File not found: {file_path}\")\n",
        "        return\n",
        "\n",
        "    print(f\"Analyzing a3M file: {file_path.name}\")\n",
        "\n",
        "    try:\n",
        "        with open(file_path, 'r') as f:\n",
        "            lines = f.readlines()\n",
        "\n",
        "        # Count statistics\n",
        "        total_lines = len(lines)\n",
        "        comment_lines = sum(1 for line in lines if line.startswith('#'))\n",
        "        sequence_headers = sum(1 for line in lines if line.startswith('>'))\n",
        "        sequence_lines = total_lines - comment_lines - sequence_headers\n",
        "\n",
        "        # Calculate sequence lengths\n",
        "        sequence_lengths = []\n",
        "        current_sequence = \"\"\n",
        "\n",
        "        for line in lines:\n",
        "            line = line.strip()\n",
        "            if line.startswith('#'):\n",
        "                continue\n",
        "            elif line.startswith('>'):\n",
        "                if current_sequence:\n",
        "                    sequence_lengths.append(len(current_sequence))\n",
        "                current_sequence = \"\"\n",
        "            else:\n",
        "                current_sequence += line\n",
        "\n",
        "        # Don't forget the last sequence\n",
        "        if current_sequence:\n",
        "            sequence_lengths.append(len(current_sequence))\n",
        "\n",
        "        # File statistics\n",
        "        file_size = file_path.stat().st_size\n",
        "\n",
        "        print(f\"File Statistics:\")\n",
        "        print(f\"File size: {file_size:,} bytes\")\n",
        "        print(f\"Total lines: {total_lines}\")\n",
        "        print(f\"Comment lines: {comment_lines}\")\n",
        "        print(f\"Sequence headers: {sequence_headers}\")\n",
        "        print(f\"Sequence lines: {sequence_lines}\")\n",
        "\n",
        "        if sequence_lengths:\n",
        "            avg_length = sum(sequence_lengths) / len(sequence_lengths)\n",
        "            min_length = min(sequence_lengths)\n",
        "            max_length = max(sequence_lengths)\n",
        "\n",
        "            print(f\"Sequence Statistics:\")\n",
        "            print(f\"Number of sequences: {len(sequence_lengths)}\")\n",
        "            print(f\"Average length: {avg_length:.1f}\")\n",
        "            print(f\"Length range: {min_length} - {max_length}\")\n",
        "\n",
        "            # Show first sequence as example\n",
        "            with open(file_path, 'r') as f:\n",
        "                content = f.read()\n",
        "\n",
        "            # Find first sequence\n",
        "            lines = content.split('\\n')\n",
        "            for i, line in enumerate(lines):\n",
        "                if line.startswith('>') and not line.startswith('#'):\n",
        "                    header = line\n",
        "                    sequence = \"\"\n",
        "                    j = i + 1\n",
        "                    while j < len(lines) and not lines[j].startswith('>'):\n",
        "                        if not lines[j].startswith('#'):\n",
        "                            sequence += lines[j].strip()\n",
        "                        j += 1\n",
        "\n",
        "                    print(f\"First sequence example:\")\n",
        "                    print(f\"Header: {header}\")\n",
        "                    print(f\"Length: {len(sequence)}\")\n",
        "                    print(f\"Preview: {sequence[:80]}{'...' if len(sequence) > 80 else ''}\")\n",
        "                    break\n",
        "\n",
        "    except Exception as e:\n",
        "        print(f\"Error analyzing file: {e}\")\n"
      ]
    },
    {
      "cell_type": "markdown",
      "metadata": {
        "id": "58bR7__blCIw"
      },
      "source": [
        "### Parse the MSA alignment results to merge results from all datasets into a single `A3M` format file"
      ]
    },
    {
      "cell_type": "code",
      "execution_count": 42,
      "metadata": {
        "colab": {
          "base_uri": "https://localhost:8080/"
        },
        "id": "I6e-m3G6lCIw",
        "outputId": "6e7f35d0-69b7-441c-a2af-7db93ce45598"
      },
      "outputs": [
        {
          "output_type": "stream",
          "name": "stdout",
          "text": [
            "Parsing results from database: Uniref30_2302\n",
            "Number of sequences aligned: 100\n",
            "Parsing results from database: colabfold_envdb_202108\n",
            "Number of sequences aligned: 100\n",
            "Parsing results from database: PDB70_220313\n",
            "Number of sequences aligned: 88\n",
            "Total merged alignments: 577\n",
            "Writing 289 sequences to a3M format: merged_alignments_protein.a3m\n",
            "Successfully created a3M file:\n",
            "File: merged_alignments_protein.a3m\n",
            "Size: 81,161 bytes\n",
            "Sequences: 289\n"
          ]
        }
      ],
      "source": [
        "merged_alignments_protein, a3m_file_path = process_msa_alignments(\n",
        "    msa_response_dict,\n",
        "    databases,\n",
        "    sequence,\n",
        "    max_sequences_per_db=10000,\n",
        "    output_file=\"merged_alignments_protein.a3m\"\n",
        "    )"
      ]
    },
    {
      "cell_type": "markdown",
      "metadata": {
        "id": "fDyNAxSXlCIx"
      },
      "source": [
        "### Download the `A3M` file to your local machine"
      ]
    },
    {
      "cell_type": "code",
      "execution_count": 44,
      "metadata": {
        "colab": {
          "base_uri": "https://localhost:8080/",
          "height": 17
        },
        "id": "hkLhGW6LlCIx",
        "outputId": "78fe64fe-2628-4271-9728-02c27abd5b8b"
      },
      "outputs": [
        {
          "output_type": "display_data",
          "data": {
            "text/plain": [
              "<IPython.core.display.Javascript object>"
            ],
            "application/javascript": [
              "\n",
              "    async function download(id, filename, size) {\n",
              "      if (!google.colab.kernel.accessAllowed) {\n",
              "        return;\n",
              "      }\n",
              "      const div = document.createElement('div');\n",
              "      const label = document.createElement('label');\n",
              "      label.textContent = `Downloading \"${filename}\": `;\n",
              "      div.appendChild(label);\n",
              "      const progress = document.createElement('progress');\n",
              "      progress.max = size;\n",
              "      div.appendChild(progress);\n",
              "      document.body.appendChild(div);\n",
              "\n",
              "      const buffers = [];\n",
              "      let downloaded = 0;\n",
              "\n",
              "      const channel = await google.colab.kernel.comms.open(id);\n",
              "      // Send a message to notify the kernel that we're ready.\n",
              "      channel.send({})\n",
              "\n",
              "      for await (const message of channel.messages) {\n",
              "        // Send a message to notify the kernel that we're ready.\n",
              "        channel.send({})\n",
              "        if (message.buffers) {\n",
              "          for (const buffer of message.buffers) {\n",
              "            buffers.push(buffer);\n",
              "            downloaded += buffer.byteLength;\n",
              "            progress.value = downloaded;\n",
              "          }\n",
              "        }\n",
              "      }\n",
              "      const blob = new Blob(buffers, {type: 'application/binary'});\n",
              "      const a = document.createElement('a');\n",
              "      a.href = window.URL.createObjectURL(blob);\n",
              "      a.download = filename;\n",
              "      div.appendChild(a);\n",
              "      a.click();\n",
              "      div.remove();\n",
              "    }\n",
              "  "
            ]
          },
          "metadata": {}
        },
        {
          "output_type": "display_data",
          "data": {
            "text/plain": [
              "<IPython.core.display.Javascript object>"
            ],
            "application/javascript": [
              "download(\"download_992600f3-a45f-4ba5-9006-f5c3a19f7f70\", \"merged_alignments_protein.a3m\", 81161)"
            ]
          },
          "metadata": {}
        },
        {
          "output_type": "display_data",
          "data": {
            "text/plain": [
              "<IPython.core.display.Javascript object>"
            ],
            "application/javascript": [
              "\n",
              "    async function download(id, filename, size) {\n",
              "      if (!google.colab.kernel.accessAllowed) {\n",
              "        return;\n",
              "      }\n",
              "      const div = document.createElement('div');\n",
              "      const label = document.createElement('label');\n",
              "      label.textContent = `Downloading \"${filename}\": `;\n",
              "      div.appendChild(label);\n",
              "      const progress = document.createElement('progress');\n",
              "      progress.max = size;\n",
              "      div.appendChild(progress);\n",
              "      document.body.appendChild(div);\n",
              "\n",
              "      const buffers = [];\n",
              "      let downloaded = 0;\n",
              "\n",
              "      const channel = await google.colab.kernel.comms.open(id);\n",
              "      // Send a message to notify the kernel that we're ready.\n",
              "      channel.send({})\n",
              "\n",
              "      for await (const message of channel.messages) {\n",
              "        // Send a message to notify the kernel that we're ready.\n",
              "        channel.send({})\n",
              "        if (message.buffers) {\n",
              "          for (const buffer of message.buffers) {\n",
              "            buffers.push(buffer);\n",
              "            downloaded += buffer.byteLength;\n",
              "            progress.value = downloaded;\n",
              "          }\n",
              "        }\n",
              "      }\n",
              "      const blob = new Blob(buffers, {type: 'application/binary'});\n",
              "      const a = document.createElement('a');\n",
              "      a.href = window.URL.createObjectURL(blob);\n",
              "      a.download = filename;\n",
              "      div.appendChild(a);\n",
              "      a.click();\n",
              "      div.remove();\n",
              "    }\n",
              "  "
            ]
          },
          "metadata": {}
        },
        {
          "output_type": "display_data",
          "data": {
            "text/plain": [
              "<IPython.core.display.Javascript object>"
            ],
            "application/javascript": [
              "download(\"download_9b46c075-982f-4e15-9d18-b64bef9be2f5\", \"msa_output.json\", 167963)"
            ]
          },
          "metadata": {}
        }
      ],
      "source": [
        "from google.colab import files\n",
        "files.download(\"merged_alignments_protein.a3m\")\n",
        "files.download(\"msa_output.json\")"
      ]
    },
    {
      "cell_type": "markdown",
      "metadata": {
        "id": "GMOMMveAlCIx"
      },
      "source": [
        "## 1.5 Analyze the `A3M` Format File"
      ]
    },
    {
      "cell_type": "code",
      "execution_count": 45,
      "metadata": {
        "colab": {
          "base_uri": "https://localhost:8080/"
        },
        "id": "R9rFBbqglCIx",
        "outputId": "1955fce1-5244-4bc8-e556-dfd519d0f5c5"
      },
      "outputs": [
        {
          "output_type": "stream",
          "name": "stdout",
          "text": [
            "============================================================\n",
            "A3M FILE ANALYSIS\n",
            "============================================================\n",
            "Analyzing a3M file: merged_alignments_protein.a3m\n",
            "File Statistics:\n",
            "File size: 81,161 bytes\n",
            "Total lines: 578\n",
            "Comment lines: 0\n",
            "Sequence headers: 289\n",
            "Sequence lines: 289\n",
            "Sequence Statistics:\n",
            "Number of sequences: 289\n",
            "Average length: 265.0\n",
            "Length range: 265 - 265\n",
            "First sequence example:\n",
            "Header: >query_sequence\n",
            "Length: 265\n",
            "Preview: MHHHHHHGENLYFQGSAPYASLTEIEHLVQSVCKSYRETCQLRLEDLLRQRSNIFSREEVTGYQRKSMWEMWERCAHHLT...\n",
            "----------------------------------------\n"
          ]
        }
      ],
      "source": [
        "# Analyze all created a3M files\n",
        "print(\"=\" * 60)\n",
        "print(\"A3M FILE ANALYSIS\")\n",
        "print(\"=\" * 60)\n",
        "\n",
        "files_to_analyze = [\n",
        "    \"merged_alignments_protein.a3m\",\n",
        "]\n",
        "\n",
        "for file_name in files_to_analyze:\n",
        "    if Path(file_name).exists():\n",
        "        analyze_a3m_file(file_name)\n",
        "        print(\"-\" * 40)\n",
        "    else:\n",
        "        print(f\"File not found: {file_name}\")\n",
        "        print(\"-\" * 40)"
      ]
    },
    {
      "cell_type": "markdown",
      "metadata": {
        "id": "fjB9vIIOlCIx"
      },
      "source": [
        "## 1.6 Visualize the MSA Results"
      ]
    },
    {
      "cell_type": "code",
      "execution_count": 46,
      "metadata": {
        "id": "0S8TcZSClCIx"
      },
      "outputs": [],
      "source": [
        "# Read in the MSA output\n",
        "with open('merged_alignments_protein.a3m', 'r') as file:\n",
        "    msa_output = file.read()\n",
        "    msa_output = msa_output.split('\\n')\n",
        "    seq_list = msa_output[1::2]\n",
        "    seq_names = msa_output[::2]\n",
        "    #remove '>' from seq_names\n",
        "    seq_names = [name.replace('>', '') for name in seq_names]"
      ]
    },
    {
      "cell_type": "code",
      "execution_count": 47,
      "metadata": {
        "id": "uK36NPdIlCIx"
      },
      "outputs": [],
      "source": [
        "import seaborn as sns\n",
        "import numpy as np\n",
        "import matplotlib.pyplot as plt\n",
        "\n",
        "\n",
        "BLUE = (120/255, 94/255, 240/255) # `indigo` from IBM colorblind friendly\n",
        "GREEN = (118/255, 185/255, 0/255)\n",
        "\n",
        "\n",
        "def GetConsensus(msa):\n",
        "    \"\"\"Calculate per-index similarity of all strings compared to the baseline (first string).\"\"\"\n",
        "    if not msa or len(msa) < 2:\n",
        "        return []\n",
        "\n",
        "    baseline = msa[0]\n",
        "    max_length = max(len(seq) for seq in msa)\n",
        "    consensus = []\n",
        "\n",
        "    # Analyze each position\n",
        "    for pos in range(max_length):\n",
        "        baseline_char = baseline[pos] if pos < len(baseline) else '-'\n",
        "\n",
        "        # Count matches with baseline at this position\n",
        "        matches = 0\n",
        "        total_strings = 0\n",
        "\n",
        "        for seq in msa[1:]:\n",
        "            if pos < len(seq):\n",
        "                seq_char = seq[pos]\n",
        "                if seq_char != '-' and baseline_char != '-':\n",
        "                    if seq_char == baseline_char:\n",
        "                        matches += 1\n",
        "                    total_strings += 1\n",
        "\n",
        "        # Calculate similarity percentage for this position\n",
        "        similarity = (matches / total_strings * 100) if total_strings > 0 else 0\n",
        "        consensus.append({\n",
        "            'position': pos,\n",
        "            'baseline_char': baseline_char,\n",
        "            'similarity_percent': similarity,\n",
        "            'matches': matches,\n",
        "            'total_comparisons': total_strings\n",
        "        })\n",
        "\n",
        "    return consensus\n",
        "\n",
        "\n",
        "def ConsensusHistogram(msa,\n",
        "                       color=GREEN,\n",
        "                       start=None, end=None,\n",
        "                       tick_fontsize=8,\n",
        "                       label_fontsize=12,\n",
        "                       title_fontsize=14,\n",
        "                       ):\n",
        "    \"\"\"Create histogram of consensus frequencies using seaborn with customizable fonts.\"\"\"\n",
        "    if not msa:\n",
        "        return None\n",
        "\n",
        "    # Slice MSA if start/end specified\n",
        "    if start is not None or end is not None:\n",
        "        msa = [seq[start:end] for seq in msa]\n",
        "\n",
        "    # Transpose to get columns (positions)\n",
        "    positions = list(zip(*msa))\n",
        "\n",
        "    # Calculate consensus frequency at each position\n",
        "    consensus_results = GetConsensus(msa)\n",
        "    consensus_freqs = [item['similarity_percent'] for item in consensus_results]\n",
        "\n",
        "    # Create the plot\n",
        "    plt.figure(figsize=(12, 4))\n",
        "\n",
        "    # Use seaborn for better styling\n",
        "    sns.set_style(\"whitegrid\")\n",
        "\n",
        "    # Create the histogram\n",
        "    ax = sns.barplot(x=list(range(len(consensus_freqs))),\n",
        "                     y=consensus_freqs,\n",
        "                     color=color,\n",
        "                     alpha=0.9,\n",
        "                     edgecolor='white',\n",
        "                     )\n",
        "\n",
        "    # Remove space between bars\n",
        "    for patch in ax.patches:\n",
        "        current_width = patch.get_width()\n",
        "        new_width = 1.0  # Set width to 1.0 to eliminate gaps\n",
        "        diff = current_width - new_width\n",
        "        patch.set_width(new_width)\n",
        "        patch.set_x(patch.get_x() + diff * .5) # Adjust x-position to center the bar\n",
        "\n",
        "\n",
        "    # Automatically set major x-axis ticks based on figure size\n",
        "    num_positions = len(consensus_freqs)\n",
        "    if num_positions > 0:\n",
        "        # Calculate optimal number of ticks based on figure width\n",
        "        # Aim for roughly 8-12 ticks across the figure\n",
        "        optimal_ticks = min(12, max(5, num_positions // 10))\n",
        "\n",
        "        # Calculate tick positions\n",
        "        tick_positions = np.linspace(1, num_positions, optimal_ticks, dtype=int)\n",
        "\n",
        "        # Set x-axis ticks and labels\n",
        "        ax.set_xticks(tick_positions)\n",
        "        ax.set_xticklabels([f'{pos}' for pos in tick_positions], fontsize=tick_fontsize)\n",
        "\n",
        "    # Customize tick marks\n",
        "    ax.tick_params(axis='both', labelsize=tick_fontsize)\n",
        "\n",
        "    # Customize labels with specified font sizes\n",
        "    ax.set_xlabel('Sequence Position', fontsize=label_fontsize)\n",
        "    ax.set_ylabel('Consensus Frequency', fontsize=label_fontsize)\n",
        "    ax.set_title('Consensus Frequency by Position Across All MSA Sequences', fontsize=title_fontsize, fontweight='bold')\n",
        "\n",
        "    # Add grid with custom styling\n",
        "    ax.grid(True, alpha=0.3, linestyle='--')\n",
        "\n",
        "    # Adjust layout\n",
        "    plt.tight_layout()"
      ]
    },
    {
      "cell_type": "code",
      "execution_count": 48,
      "metadata": {
        "colab": {
          "base_uri": "https://localhost:8080/",
          "height": 407
        },
        "id": "jqn2tQ_UlCIy",
        "outputId": "48b91adc-5b2a-4290-f5ed-8338dab81005"
      },
      "outputs": [
        {
          "output_type": "display_data",
          "data": {
            "text/plain": [
              "<Figure size 1200x400 with 1 Axes>"
            ],
            "image/png": "[encoded data removed]"
          },
          "metadata": {}
        }
      ],
      "source": [
        "ConsensusHistogram(seq_list)\n",
        "\n"
      ]
    },
    {
      "cell_type": "code",
      "execution_count": null,
      "metadata": {
        "id": "NAhFmm8vlCIy"
      },
      "outputs": [],
      "source": []
    },
    {
      "cell_type": "code",
      "execution_count": null,
      "metadata": {
        "id": "HxHdQggOlCIy"
      },
      "outputs": [],
      "source": []
    }
  ],
  "metadata": {
    "colab": {
      "provenance": []
    },
    "kernelspec": {
      "display_name": "Python 3",
      "language": "python",
      "name": "python3"
    },
    "language_info": {
      "codemirror_mode": {
        "name": "ipython",
        "version": 3
      },
      "file_extension": ".py",
      "mimetype": "text/x-python",
      "name": "python",
      "nbconvert_exporter": "python",
      "pygments_lexer": "ipython3",
      "version": "3.10.2"
    }
  },
  "nbformat": 4,
  "nbformat_minor": 0
}