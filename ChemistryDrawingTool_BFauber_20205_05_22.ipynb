{
  "cells": [
    {
      "cell_type": "markdown",
      "id": "d05ea3a8067c2cea",
      "metadata": {
        "id": "d05ea3a8067c2cea"
      },
      "source": [
        "# GenMol Demo"
      ]
    },
    {
      "cell_type": "code",
      "execution_count": 16,
      "id": "d98e1971",
      "metadata": {
        "colab": {
          "base_uri": "https://localhost:8080/"
        },
        "id": "d98e1971",
        "outputId": "cb537d73-b0ea-47a9-a548-cef5860135b9"
      },
      "outputs": [
        {
          "output_type": "stream",
          "name": "stdout",
          "text": [
            "Requirement already satisfied: rdkit in /usr/local/lib/python3.11/dist-packages (2025.3.2)\n",
            "Requirement already satisfied: python-dotenv in /usr/local/lib/python3.11/dist-packages (1.1.0)\n",
            "Requirement already satisfied: pandas in /usr/local/lib/python3.11/dist-packages (2.2.2)\n",
            "Requirement already satisfied: numpy in /usr/local/lib/python3.11/dist-packages (2.0.2)\n",
            "Requirement already satisfied: matplotlib in /usr/local/lib/python3.11/dist-packages (3.10.0)\n",
            "Requirement already satisfied: loguru in /usr/local/lib/python3.11/dist-packages (0.7.3)\n",
            "Requirement already satisfied: py3dmol in /usr/local/lib/python3.11/dist-packages (2.4.2)\n",
            "Requirement already satisfied: Pillow in /usr/local/lib/python3.11/dist-packages (from rdkit) (11.2.1)\n",
            "Requirement already satisfied: python-dateutil>=2.8.2 in /usr/local/lib/python3.11/dist-packages (from pandas) (2.9.0.post0)\n",
            "Requirement already satisfied: pytz>=2020.1 in /usr/local/lib/python3.11/dist-packages (from pandas) (2025.2)\n",
            "Requirement already satisfied: tzdata>=2022.7 in /usr/local/lib/python3.11/dist-packages (from pandas) (2025.2)\n",
            "Requirement already satisfied: contourpy>=1.0.1 in /usr/local/lib/python3.11/dist-packages (from matplotlib) (1.3.2)\n",
            "Requirement already satisfied: cycler>=0.10 in /usr/local/lib/python3.11/dist-packages (from matplotlib) (0.12.1)\n",
            "Requirement already satisfied: fonttools>=4.22.0 in /usr/local/lib/python3.11/dist-packages (from matplotlib) (4.58.0)\n",
            "Requirement already satisfied: kiwisolver>=1.3.1 in /usr/local/lib/python3.11/dist-packages (from matplotlib) (1.4.8)\n",
            "Requirement already satisfied: packaging>=20.0 in /usr/local/lib/python3.11/dist-packages (from matplotlib) (24.2)\n",
            "Requirement already satisfied: pyparsing>=2.3.1 in /usr/local/lib/python3.11/dist-packages (from matplotlib) (3.2.3)\n",
            "Requirement already satisfied: six>=1.5 in /usr/local/lib/python3.11/dist-packages (from python-dateutil>=2.8.2->pandas) (1.17.0)\n"
          ]
        }
      ],
      "source": [
        "!pip install rdkit python-dotenv pandas numpy matplotlib loguru py3dmol\n"
      ]
    },
    {
      "cell_type": "code",
      "execution_count": 17,
      "id": "4c05ce1b",
      "metadata": {
        "id": "4c05ce1b"
      },
      "outputs": [],
      "source": [
        "import pickle\n",
        "from typing import List\n",
        "import numpy as np\n",
        "\n",
        "from rdkit.Chem.QED import qed as rdkit_qed\n",
        "from rdkit import Chem\n",
        "\n",
        "import matplotlib.pyplot as plt\n",
        "from IPython.display import display, clear_output\n",
        "\n",
        "from rdkit.Chem.QED import qed\n",
        "from rdkit.Chem import AllChem\n",
        "from rdkit.Chem import Draw\n",
        "from rdkit.Chem.AllChem import GetMorganFingerprintAsBitVect\n",
        "from rdkit.DataStructs import TanimotoSimilarity\n",
        "import ast\n",
        "from google.colab import userdata\n",
        "import os, shutil, requests\n",
        "import pandas as pd"
      ]
    },
    {
      "cell_type": "code",
      "execution_count": 72,
      "id": "3cf4d6e3",
      "metadata": {
        "id": "3cf4d6e3"
      },
      "outputs": [],
      "source": [
        "API_KEY = userdata.get('API_KEY')\n",
        "# print(API_KEY)\n",
        "\n",
        "headers = {\n",
        "    \"Authorization\": f\"Bearer {API_KEY}\",\n",
        "    \"Accept\": \"application/json\",\n",
        "}\n",
        "\n",
        "invoke_url = \"https://health.api.nvidia.com/v1/biology/nvidia/genmol/generate\"\n",
        "\n",
        "session = requests.Session()"
      ]
    },
    {
      "cell_type": "code",
      "source": [
        "smis = \"CC[*]\""
      ],
      "metadata": {
        "id": "dkKUbDLkaCHY"
      },
      "id": "dkKUbDLkaCHY",
      "execution_count": 73,
      "outputs": []
    },
    {
      "cell_type": "code",
      "source": [
        "\n",
        "# Create the request payload\n",
        "payload = {\n",
        "    \"smiles\": smis,\n",
        "    \"num_molecules\": \"30\",\n",
        "    \"temperature\": \"1\",\n",
        "    \"noise\": \"0\",\n",
        "    \"step_size\":\"1\",\n",
        "    \"scoring\": \"QED\"\n",
        "}\n",
        "\n",
        "# Send the request and get the response\n",
        "response = session.post(invoke_url, headers=headers, json=payload)\n",
        "response.raise_for_status()\n",
        "result = response.json()\n",
        "\n",
        "print(f\"*************** RESPONSE ********************\")\n",
        "print(f\"result: \\n\"\n",
        "  f\"{result}\")\n",
        "\n"
      ],
      "metadata": {
        "colab": {
          "base_uri": "https://localhost:8080/",
          "height": 332
        },
        "id": "zIbK4rDtZk7z",
        "outputId": "82bac615-501d-4fbb-df40-3f704f2f055b"
      },
      "id": "zIbK4rDtZk7z",
      "execution_count": 75,
      "outputs": [
        {
          "output_type": "error",
          "ename": "HTTPError",
          "evalue": "400 Client Error: Bad Request for url: https://health.api.nvidia.com/v1/biology/nvidia/genmol/generate",
          "traceback": [
            "\u001b[0;31m---------------------------------------------------------------------------\u001b[0m",
            "\u001b[0;31mHTTPError\u001b[0m                                 Traceback (most recent call last)",
            "\u001b[0;32m<ipython-input-75-2086c5e6c1b3>\u001b[0m in \u001b[0;36m<cell line: 0>\u001b[0;34m()\u001b[0m\n\u001b[1;32m     11\u001b[0m \u001b[0;31m# Send the request and get the response\u001b[0m\u001b[0;34m\u001b[0m\u001b[0;34m\u001b[0m\u001b[0m\n\u001b[1;32m     12\u001b[0m \u001b[0mresponse\u001b[0m \u001b[0;34m=\u001b[0m \u001b[0msession\u001b[0m\u001b[0;34m.\u001b[0m\u001b[0mpost\u001b[0m\u001b[0;34m(\u001b[0m\u001b[0minvoke_url\u001b[0m\u001b[0;34m,\u001b[0m \u001b[0mheaders\u001b[0m\u001b[0;34m=\u001b[0m\u001b[0mheaders\u001b[0m\u001b[0;34m,\u001b[0m \u001b[0mjson\u001b[0m\u001b[0;34m=\u001b[0m\u001b[0mpayload\u001b[0m\u001b[0;34m)\u001b[0m\u001b[0;34m\u001b[0m\u001b[0;34m\u001b[0m\u001b[0m\n\u001b[0;32m---> 13\u001b[0;31m \u001b[0mresponse\u001b[0m\u001b[0;34m.\u001b[0m\u001b[0mraise_for_status\u001b[0m\u001b[0;34m(\u001b[0m\u001b[0;34m)\u001b[0m\u001b[0;34m\u001b[0m\u001b[0;34m\u001b[0m\u001b[0m\n\u001b[0m\u001b[1;32m     14\u001b[0m \u001b[0mresult\u001b[0m \u001b[0;34m=\u001b[0m \u001b[0mresponse\u001b[0m\u001b[0;34m.\u001b[0m\u001b[0mjson\u001b[0m\u001b[0;34m(\u001b[0m\u001b[0;34m)\u001b[0m\u001b[0;34m\u001b[0m\u001b[0;34m\u001b[0m\u001b[0m\n\u001b[1;32m     15\u001b[0m \u001b[0;34m\u001b[0m\u001b[0m\n",
            "\u001b[0;32m/usr/local/lib/python3.11/dist-packages/requests/models.py\u001b[0m in \u001b[0;36mraise_for_status\u001b[0;34m(self)\u001b[0m\n\u001b[1;32m   1022\u001b[0m \u001b[0;34m\u001b[0m\u001b[0m\n\u001b[1;32m   1023\u001b[0m         \u001b[0;32mif\u001b[0m \u001b[0mhttp_error_msg\u001b[0m\u001b[0;34m:\u001b[0m\u001b[0;34m\u001b[0m\u001b[0;34m\u001b[0m\u001b[0m\n\u001b[0;32m-> 1024\u001b[0;31m             \u001b[0;32mraise\u001b[0m \u001b[0mHTTPError\u001b[0m\u001b[0;34m(\u001b[0m\u001b[0mhttp_error_msg\u001b[0m\u001b[0;34m,\u001b[0m \u001b[0mresponse\u001b[0m\u001b[0;34m=\u001b[0m\u001b[0mself\u001b[0m\u001b[0;34m)\u001b[0m\u001b[0;34m\u001b[0m\u001b[0;34m\u001b[0m\u001b[0m\n\u001b[0m\u001b[1;32m   1025\u001b[0m \u001b[0;34m\u001b[0m\u001b[0m\n\u001b[1;32m   1026\u001b[0m     \u001b[0;32mdef\u001b[0m \u001b[0mclose\u001b[0m\u001b[0;34m(\u001b[0m\u001b[0mself\u001b[0m\u001b[0;34m)\u001b[0m\u001b[0;34m:\u001b[0m\u001b[0;34m\u001b[0m\u001b[0;34m\u001b[0m\u001b[0m\n",
            "\u001b[0;31mHTTPError\u001b[0m: 400 Client Error: Bad Request for url: https://health.api.nvidia.com/v1/biology/nvidia/genmol/generate"
          ]
        }
      ]
    },
    {
      "cell_type": "code",
      "source": [
        "smis = \"CC(C)CN(Cc1ccc([*])cc1)[S](=O)(=O)Cc2ccccc2\""
      ],
      "metadata": {
        "id": "NRQPBctDZr8Z"
      },
      "id": "NRQPBctDZr8Z",
      "execution_count": 52,
      "outputs": []
    },
    {
      "cell_type": "code",
      "source": [],
      "metadata": {
        "id": "gB_b7NuQZr-_"
      },
      "id": "gB_b7NuQZr-_",
      "execution_count": null,
      "outputs": []
    },
    {
      "cell_type": "code",
      "source": [],
      "metadata": {
        "id": "9m0UoZpnZsCm"
      },
      "id": "9m0UoZpnZsCm",
      "execution_count": null,
      "outputs": []
    },
    {
      "cell_type": "code",
      "source": [],
      "metadata": {
        "id": "FwUVZ1iDZk-e"
      },
      "id": "FwUVZ1iDZk-e",
      "execution_count": null,
      "outputs": []
    },
    {
      "cell_type": "code",
      "execution_count": null,
      "id": "9cba10a37df62745",
      "metadata": {
        "ExecuteTime": {
          "end_time": "2024-04-25T03:32:52.318267Z",
          "start_time": "2024-04-25T03:32:52.307150Z"
        },
        "id": "9cba10a37df62745"
      },
      "outputs": [],
      "source": [
        "smis = \"CC(C)CN(Cc1ccc(cc1)N2CCN(CC2)C(C)=O)[S](=O)(=O)Cc3ccccc3\"\n",
        "\n",
        "mol = Chem.MolFromSmiles(smis)\n",
        "qed_score = rdkit_qed(mol)\n",
        "print(f\"Original QED: {qed_score}\")\n",
        "\n",
        "# Generate an image from the molecule\n",
        "img = Draw.MolToImage(mol, size=(300, 300))\n",
        "display(img)  # this will display the SM image in a Jupyter Notebook"
      ]
    },
    {
      "cell_type": "markdown",
      "id": "ebad2087",
      "metadata": {
        "id": "ebad2087"
      },
      "source": [
        "Removing the acyl-piperazine to facilitate exploration of alterantive moeities"
      ]
    }
  ],
  "metadata": {
    "colab": {
      "provenance": []
    },
    "kernelspec": {
      "display_name": "Python 3",
      "language": "python",
      "name": "python3"
    },
    "language_info": {
      "codemirror_mode": {
        "name": "ipython",
        "version": 3
      },
      "file_extension": ".py",
      "mimetype": "text/x-python",
      "name": "python",
      "nbconvert_exporter": "python",
      "pygments_lexer": "ipython3",
      "version": "3.10.2"
    }
  },
  "nbformat": 4,
  "nbformat_minor": 5
}