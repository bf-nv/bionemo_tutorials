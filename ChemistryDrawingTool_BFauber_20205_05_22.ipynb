{
  "cells": [
    {
      "cell_type": "markdown",
      "id": "d05ea3a8067c2cea",
      "metadata": {
        "id": "d05ea3a8067c2cea"
      },
      "source": [
        "# Chemistry Drawing Tool"
      ]
    },
    {
      "cell_type": "code",
      "execution_count": 3,
      "id": "d98e1971",
      "metadata": {},
      "outputs": [],
      "source": [
        "from IPython.display import HTML, display, IFrame\n",
        "import ipywidgets as widgets\n",
        "from rdkit import Chem\n",
        "from rdkit.Chem import Draw\n",
        "from rdkit.Chem import QED"
      ]
    },
    {
      "cell_type": "code",
      "execution_count": 5,
      "id": "4c05ce1b",
      "metadata": {},
      "outputs": [
        {
          "data": {
            "text/html": [
              "\n",
              "<div style=\"display: flex; flex-direction: column; gap: 10px;\">\n",
              "    <iframe id=\"ketcher_frame\" src=\"https://lifescience.opensource.epam.com/ketcher/demo.html\" width=\"800\" height=\"600\" style=\"border: 1px solid #ccc;\"></iframe>\n",
              "    <div style=\"display: flex; gap: 10px;\">\n",
              "        <button onclick=\"getSmiles()\" style=\"padding: 8px 16px; background-color: #4CAF50; color: white; border: none; border-radius: 4px; cursor: pointer;\">Get SMILES</button>\n",
              "        <button onclick=\"clearKetcher()\" style=\"padding: 8px 16px; background-color: #f44336; color: white; border: none; border-radius: 4px; cursor: pointer;\">Clear</button>\n",
              "    </div>\n",
              "    <div id=\"smiles_output\" style=\"padding: 10px; background-color: #f5f5f5; border-radius: 4px;\"></div>\n",
              "</div>\n",
              "\n",
              "<script>\n",
              "function getSmiles() {\n",
              "    const ketcher = document.getElementById('ketcher_frame').contentWindow.ketcher;\n",
              "    ketcher.getSmiles().then(smiles => {\n",
              "        document.getElementById('smiles_output').textContent = 'SMILES: ' + smiles;\n",
              "    });\n",
              "}\n",
              "\n",
              "function clearKetcher() {\n",
              "    const ketcher = document.getElementById('ketcher_frame').contentWindow.ketcher;\n",
              "    ketcher.clear();\n",
              "    document.getElementById('smiles_output').textContent = '';\n",
              "}\n",
              "</script>\n"
            ],
            "text/plain": [
              "<IPython.core.display.HTML object>"
            ]
          },
          "metadata": {},
          "output_type": "display_data"
        }
      ],
      "source": [
        "# Create Ketcher interface\n",
        "ketcher_html = \"\"\"\n",
        "<div style=\"display: flex; flex-direction: column; gap: 10px;\">\n",
        "    <iframe id=\"ketcher_frame\" src=\"https://lifescience.opensource.epam.com/ketcher/demo.html\" width=\"800\" height=\"600\" style=\"border: 1px solid #ccc;\"></iframe>\n",
        "    <div style=\"display: flex; gap: 10px;\">\n",
        "        <button onclick=\"getSmiles()\" style=\"padding: 8px 16px; background-color: #4CAF50; color: white; border: none; border-radius: 4px; cursor: pointer;\">Get SMILES</button>\n",
        "        <button onclick=\"clearKetcher()\" style=\"padding: 8px 16px; background-color: #f44336; color: white; border: none; border-radius: 4px; cursor: pointer;\">Clear</button>\n",
        "    </div>\n",
        "    <div id=\"smiles_output\" style=\"padding: 10px; background-color: #f5f5f5; border-radius: 4px;\"></div>\n",
        "</div>\n",
        "\n",
        "<script>\n",
        "function getSmiles() {\n",
        "    const ketcher = document.getElementById('ketcher_frame').contentWindow.ketcher;\n",
        "    ketcher.getSmiles().then(smiles => {\n",
        "        document.getElementById('smiles_output').textContent = 'SMILES: ' + smiles;\n",
        "    });\n",
        "}\n",
        "\n",
        "function clearKetcher() {\n",
        "    const ketcher = document.getElementById('ketcher_frame').contentWindow.ketcher;\n",
        "    ketcher.clear();\n",
        "    document.getElementById('smiles_output').textContent = '';\n",
        "}\n",
        "</script>\n",
        "\"\"\"\n",
        "\n",
        "display(HTML(ketcher_html))"
      ]
    },
    {
      "cell_type": "code",
      "execution_count": null,
      "id": "3cf4d6e3",
      "metadata": {},
      "outputs": [],
      "source": []
    },
    {
      "cell_type": "code",
      "execution_count": null,
      "id": "9cba10a37df62745",
      "metadata": {
        "ExecuteTime": {
          "end_time": "2024-04-25T03:32:52.318267Z",
          "start_time": "2024-04-25T03:32:52.307150Z"
        },
        "id": "9cba10a37df62745"
      },
      "outputs": [],
      "source": [
        "smis = \"CC(C)CN(Cc1ccc(cc1)N2CCN(CC2)C(C)=O)[S](=O)(=O)Cc3ccccc3\"\n",
        "\n",
        "mol = Chem.MolFromSmiles(smis)\n",
        "qed_score = rdkit_qed(mol)\n",
        "print(f\"Original QED: {qed_score}\")\n",
        "\n",
        "# Generate an image from the molecule\n",
        "img = Draw.MolToImage(mol, size=(300, 300))\n",
        "display(img)  # this will display the SM image in a Jupyter Notebook"
      ]
    },
    {
      "cell_type": "markdown",
      "id": "ebad2087",
      "metadata": {},
      "source": [
        "Removing the acyl-piperazine to facilitate exploration of alterantive moeities"
      ]
    }
  ],
  "metadata": {
    "colab": {
      "provenance": []
    },
    "kernelspec": {
      "display_name": "Python 3",
      "language": "python",
      "name": "python3"
    },
    "language_info": {
      "codemirror_mode": {
        "name": "ipython",
        "version": 3
      },
      "file_extension": ".py",
      "mimetype": "text/x-python",
      "name": "python",
      "nbconvert_exporter": "python",
      "pygments_lexer": "ipython3",
      "version": "3.10.2"
    }
  },
  "nbformat": 4,
  "nbformat_minor": 5
}
