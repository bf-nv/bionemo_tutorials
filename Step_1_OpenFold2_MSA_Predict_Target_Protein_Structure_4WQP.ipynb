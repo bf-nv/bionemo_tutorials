{
  "cells": [
    {
      "cell_type": "markdown",
      "id": "3bd5922bb247ea84",
      "metadata": {
        "id": "3bd5922bb247ea84"
      },
      "source": [
        "# Step 1: Predict Target Protein Structure with `MSA-Search` and `OpenFold2`\n",
        "\n",
        "### RORc Nuclear Receptor Antagonist Case-Study\n",
        "Rene, O.; *et al*. \"[Minor Structural Change to Tertiary Sulfonamide RORc Ligands Led to Opposite Mechanisms of Action.](https://pubs.acs.org/doi/10.1021/ml500420y)\" *ACS Med. Chem. Lett.* **2015**, *6*, 276-281.\n",
        "\n",
        "**Abstract:** A minor structural change to tertiary sulfonamide RORc ligands led to distinct mechanisms of action. Co-crystal structures of two compounds revealed mechanistically consistent protein conformational changes. Optimized phenylsulfonamides were identified as RORc agonists while benzylsulfonamides exhibited potent inverse agonist activity. Compounds behaving as agonists in our biochemical assay also gave rise to an increased production of IL-17 in human PBMCs whereas inverse agonists led to significant suppression of IL-17 under the same assay conditions. The most potent inverse agonist compound showed >180-fold selectivity over the ROR isoforms as well as all other nuclear receptors that were profiled.\n",
        "\n",
        "https://pubs.acs.org/cms/10.1021/amclct.2015.6.issue-3/asset/amclct.2015.6.issue-3.xlargecover.jpg"
      ]
    },
    {
      "cell_type": "markdown",
      "id": "b2733278",
      "metadata": {
        "id": "b2733278"
      },
      "source": [
        "[MSA-Search](https://docs.nvidia.com/nim/bionemo/msa-search/latest/overview.html) Multiple Sequence Alignment (MSA) compares a query amino acid sequence to protein databases, aligning similar sequences to identify conserved regions despite differences in length or motifs. The resulting alignments enhance structural prediction models like AlphaFold2 and OpenFold by leveraging the structural similarity of homologous sequences.\n",
        "\n",
        "[OpenFold2](https://docs.nvidia.com/nim/bionemo/openfold2/latest/overview.html) is a protein structure prediction model from the [OpenFold Consortium](https://openfold.io/) and the [Alquraishi Laboratory](https://www.aqlab.io/). The model is a PyTorch re-implementation of Google Deepmind’s [AlphaFold2](https://github.com/google-deepmind/alphafold), with support for both training and inference. OpenFold2 demonstrates parity accuracy with AlphaFold2, and improved speed, see the project home for more detail [github.com/aqlaboratory/openfold](https://github.com/aqlaboratory/openfold).\n",
        "\n",
        "**Note:** Although we already have the crystal structure of the protein-ligand complex [PDB: 4WQP](https://www.rcsb.org/structure/4WQP), we will still use [MSA-Search](https://docs.nvidia.com/nim/bionemo/msa-search/latest/overview.html) and [OpenFold2](https://docs.nvidia.com/nim/bionemo/openfold2/latest/overview.html) to predict the protein structure for demonstration purposes."
      ]
    },
    {
      "cell_type": "markdown",
      "id": "a22b4d18",
      "metadata": {
        "id": "a22b4d18"
      },
      "source": [
        "## Protein Sequence for RORc\n",
        "\n",
        "[UNIPROT ID P51449, RORG_HUMAN](https://www.uniprot.org/uniprotkb/P51449/entry):\n",
        "\n",
        "```\n",
        ">4WQP_1, Nuclear receptor ROR-gamma, Homo sapiens\n",
        "MHHHHHHGENLYFQGSAPYASLTEIEHLVQSVCKSYRETCQLRLEDLLRQRSNIFSREEVTGYQRKSMWEMWERCAHHLTEAIQYVVEFAKRLSGFMELCQN\n",
        "DQIVLLKAGAMEVVLVRMCRAYNADNRTVFFEGKYGGMELFRALGCSELISSIFDFSHSLSALHFSEDEIALYTALVLINAHRPGLQEKRKVEQLQYNLELA\n",
        "FHHHLCKTHRQSILAKLPPKGKLRSLCSQHVERLQIFQHLHPIVVQAAFPPLYKELFSGNS\n",
        "```\n"
      ]
    },
    {
      "cell_type": "markdown",
      "id": "JHBgANrD6l0z",
      "metadata": {
        "id": "JHBgANrD6l0z"
      },
      "source": [
        "## 1.1 Set Up the Environment"
      ]
    },
    {
      "cell_type": "code",
      "execution_count": 1,
      "id": "RE_Fiwpr-eLJ",
      "metadata": {
        "id": "RE_Fiwpr-eLJ",
        "outputId": "ea839fba-2bb3-4bf0-bc46-07f9b6e3418c",
        "colab": {
          "base_uri": "https://localhost:8080/"
        }
      },
      "outputs": [
        {
          "output_type": "stream",
          "name": "stdout",
          "text": [
            "Requirement already satisfied: pandas in /usr/local/lib/python3.11/dist-packages (2.2.2)\n",
            "Requirement already satisfied: numpy in /usr/local/lib/python3.11/dist-packages (2.0.2)\n",
            "Requirement already satisfied: matplotlib in /usr/local/lib/python3.11/dist-packages (3.10.0)\n",
            "Collecting loguru\n",
            "  Downloading loguru-0.7.3-py3-none-any.whl.metadata (22 kB)\n",
            "Collecting py3dmol\n",
            "  Downloading py3Dmol-2.4.2-py2.py3-none-any.whl.metadata (1.9 kB)\n",
            "Requirement already satisfied: httpx in /usr/local/lib/python3.11/dist-packages (0.28.1)\n",
            "Collecting fastapi[standard]\n",
            "  Downloading fastapi-0.115.12-py3-none-any.whl.metadata (27 kB)\n",
            "Requirement already satisfied: python-dateutil>=2.8.2 in /usr/local/lib/python3.11/dist-packages (from pandas) (2.9.0.post0)\n",
            "Requirement already satisfied: pytz>=2020.1 in /usr/local/lib/python3.11/dist-packages (from pandas) (2025.2)\n",
            "Requirement already satisfied: tzdata>=2022.7 in /usr/local/lib/python3.11/dist-packages (from pandas) (2025.2)\n",
            "Requirement already satisfied: contourpy>=1.0.1 in /usr/local/lib/python3.11/dist-packages (from matplotlib) (1.3.2)\n",
            "Requirement already satisfied: cycler>=0.10 in /usr/local/lib/python3.11/dist-packages (from matplotlib) (0.12.1)\n",
            "Requirement already satisfied: fonttools>=4.22.0 in /usr/local/lib/python3.11/dist-packages (from matplotlib) (4.58.0)\n",
            "Requirement already satisfied: kiwisolver>=1.3.1 in /usr/local/lib/python3.11/dist-packages (from matplotlib) (1.4.8)\n",
            "Requirement already satisfied: packaging>=20.0 in /usr/local/lib/python3.11/dist-packages (from matplotlib) (24.2)\n",
            "Requirement already satisfied: pillow>=8 in /usr/local/lib/python3.11/dist-packages (from matplotlib) (11.2.1)\n",
            "Requirement already satisfied: pyparsing>=2.3.1 in /usr/local/lib/python3.11/dist-packages (from matplotlib) (3.2.3)\n",
            "Requirement already satisfied: anyio in /usr/local/lib/python3.11/dist-packages (from httpx) (4.9.0)\n",
            "Requirement already satisfied: certifi in /usr/local/lib/python3.11/dist-packages (from httpx) (2025.4.26)\n",
            "Requirement already satisfied: httpcore==1.* in /usr/local/lib/python3.11/dist-packages (from httpx) (1.0.9)\n",
            "Requirement already satisfied: idna in /usr/local/lib/python3.11/dist-packages (from httpx) (3.10)\n",
            "Requirement already satisfied: h11>=0.16 in /usr/local/lib/python3.11/dist-packages (from httpcore==1.*->httpx) (0.16.0)\n",
            "Collecting starlette<0.47.0,>=0.40.0 (from fastapi[standard])\n",
            "  Downloading starlette-0.46.2-py3-none-any.whl.metadata (6.2 kB)\n",
            "Requirement already satisfied: pydantic!=1.8,!=1.8.1,!=2.0.0,!=2.0.1,!=2.1.0,<3.0.0,>=1.7.4 in /usr/local/lib/python3.11/dist-packages (from fastapi[standard]) (2.11.4)\n",
            "Requirement already satisfied: typing-extensions>=4.8.0 in /usr/local/lib/python3.11/dist-packages (from fastapi[standard]) (4.13.2)\n",
            "Collecting fastapi-cli>=0.0.5 (from fastapi-cli[standard]>=0.0.5; extra == \"standard\"->fastapi[standard])\n",
            "  Downloading fastapi_cli-0.0.7-py3-none-any.whl.metadata (6.2 kB)\n",
            "Requirement already satisfied: jinja2>=3.1.5 in /usr/local/lib/python3.11/dist-packages (from fastapi[standard]) (3.1.6)\n",
            "Collecting python-multipart>=0.0.18 (from fastapi[standard])\n",
            "  Downloading python_multipart-0.0.20-py3-none-any.whl.metadata (1.8 kB)\n",
            "Collecting email-validator>=2.0.0 (from fastapi[standard])\n",
            "  Downloading email_validator-2.2.0-py3-none-any.whl.metadata (25 kB)\n",
            "Collecting uvicorn>=0.12.0 (from uvicorn[standard]>=0.12.0; extra == \"standard\"->fastapi[standard])\n",
            "  Downloading uvicorn-0.34.2-py3-none-any.whl.metadata (6.5 kB)\n",
            "Collecting dnspython>=2.0.0 (from email-validator>=2.0.0->fastapi[standard])\n",
            "  Downloading dnspython-2.7.0-py3-none-any.whl.metadata (5.8 kB)\n",
            "Requirement already satisfied: typer>=0.12.3 in /usr/local/lib/python3.11/dist-packages (from fastapi-cli>=0.0.5->fastapi-cli[standard]>=0.0.5; extra == \"standard\"->fastapi[standard]) (0.15.3)\n",
            "Collecting rich-toolkit>=0.11.1 (from fastapi-cli>=0.0.5->fastapi-cli[standard]>=0.0.5; extra == \"standard\"->fastapi[standard])\n",
            "  Downloading rich_toolkit-0.14.7-py3-none-any.whl.metadata (999 bytes)\n",
            "Requirement already satisfied: MarkupSafe>=2.0 in /usr/local/lib/python3.11/dist-packages (from jinja2>=3.1.5->fastapi[standard]) (3.0.2)\n",
            "Requirement already satisfied: annotated-types>=0.6.0 in /usr/local/lib/python3.11/dist-packages (from pydantic!=1.8,!=1.8.1,!=2.0.0,!=2.0.1,!=2.1.0,<3.0.0,>=1.7.4->fastapi[standard]) (0.7.0)\n",
            "Requirement already satisfied: pydantic-core==2.33.2 in /usr/local/lib/python3.11/dist-packages (from pydantic!=1.8,!=1.8.1,!=2.0.0,!=2.0.1,!=2.1.0,<3.0.0,>=1.7.4->fastapi[standard]) (2.33.2)\n",
            "Requirement already satisfied: typing-inspection>=0.4.0 in /usr/local/lib/python3.11/dist-packages (from pydantic!=1.8,!=1.8.1,!=2.0.0,!=2.0.1,!=2.1.0,<3.0.0,>=1.7.4->fastapi[standard]) (0.4.1)\n",
            "Requirement already satisfied: six>=1.5 in /usr/local/lib/python3.11/dist-packages (from python-dateutil>=2.8.2->pandas) (1.17.0)\n",
            "Requirement already satisfied: sniffio>=1.1 in /usr/local/lib/python3.11/dist-packages (from anyio->httpx) (1.3.1)\n",
            "Requirement already satisfied: click>=7.0 in /usr/local/lib/python3.11/dist-packages (from uvicorn>=0.12.0->uvicorn[standard]>=0.12.0; extra == \"standard\"->fastapi[standard]) (8.2.1)\n",
            "Collecting httptools>=0.6.3 (from uvicorn[standard]>=0.12.0; extra == \"standard\"->fastapi[standard])\n",
            "  Downloading httptools-0.6.4-cp311-cp311-manylinux_2_5_x86_64.manylinux1_x86_64.manylinux_2_17_x86_64.manylinux2014_x86_64.whl.metadata (3.6 kB)\n",
            "Collecting python-dotenv>=0.13 (from uvicorn[standard]>=0.12.0; extra == \"standard\"->fastapi[standard])\n",
            "  Downloading python_dotenv-1.1.0-py3-none-any.whl.metadata (24 kB)\n",
            "Requirement already satisfied: pyyaml>=5.1 in /usr/local/lib/python3.11/dist-packages (from uvicorn[standard]>=0.12.0; extra == \"standard\"->fastapi[standard]) (6.0.2)\n",
            "Collecting uvloop!=0.15.0,!=0.15.1,>=0.14.0 (from uvicorn[standard]>=0.12.0; extra == \"standard\"->fastapi[standard])\n",
            "  Downloading uvloop-0.21.0-cp311-cp311-manylinux_2_17_x86_64.manylinux2014_x86_64.whl.metadata (4.9 kB)\n",
            "Collecting watchfiles>=0.13 (from uvicorn[standard]>=0.12.0; extra == \"standard\"->fastapi[standard])\n",
            "  Downloading watchfiles-1.0.5-cp311-cp311-manylinux_2_17_x86_64.manylinux2014_x86_64.whl.metadata (4.9 kB)\n",
            "Requirement already satisfied: websockets>=10.4 in /usr/local/lib/python3.11/dist-packages (from uvicorn[standard]>=0.12.0; extra == \"standard\"->fastapi[standard]) (15.0.1)\n",
            "Requirement already satisfied: rich>=13.7.1 in /usr/local/lib/python3.11/dist-packages (from rich-toolkit>=0.11.1->fastapi-cli>=0.0.5->fastapi-cli[standard]>=0.0.5; extra == \"standard\"->fastapi[standard]) (13.9.4)\n",
            "Requirement already satisfied: shellingham>=1.3.0 in /usr/local/lib/python3.11/dist-packages (from typer>=0.12.3->fastapi-cli>=0.0.5->fastapi-cli[standard]>=0.0.5; extra == \"standard\"->fastapi[standard]) (1.5.4)\n",
            "Requirement already satisfied: markdown-it-py>=2.2.0 in /usr/local/lib/python3.11/dist-packages (from rich>=13.7.1->rich-toolkit>=0.11.1->fastapi-cli>=0.0.5->fastapi-cli[standard]>=0.0.5; extra == \"standard\"->fastapi[standard]) (3.0.0)\n",
            "Requirement already satisfied: pygments<3.0.0,>=2.13.0 in /usr/local/lib/python3.11/dist-packages (from rich>=13.7.1->rich-toolkit>=0.11.1->fastapi-cli>=0.0.5->fastapi-cli[standard]>=0.0.5; extra == \"standard\"->fastapi[standard]) (2.19.1)\n",
            "Requirement already satisfied: mdurl~=0.1 in /usr/local/lib/python3.11/dist-packages (from markdown-it-py>=2.2.0->rich>=13.7.1->rich-toolkit>=0.11.1->fastapi-cli>=0.0.5->fastapi-cli[standard]>=0.0.5; extra == \"standard\"->fastapi[standard]) (0.1.2)\n",
            "Downloading loguru-0.7.3-py3-none-any.whl (61 kB)\n",
            "\u001b[2K   \u001b[90m━━━━━━━━━━━━━━━━━━━━━━━━━━━━━━━━━━━━━━━━\u001b[0m \u001b[32m61.6/61.6 kB\u001b[0m \u001b[31m2.1 MB/s\u001b[0m eta \u001b[36m0:00:00\u001b[0m\n",
            "\u001b[?25hDownloading py3Dmol-2.4.2-py2.py3-none-any.whl (7.0 kB)\n",
            "Downloading email_validator-2.2.0-py3-none-any.whl (33 kB)\n",
            "Downloading fastapi_cli-0.0.7-py3-none-any.whl (10 kB)\n",
            "Downloading python_multipart-0.0.20-py3-none-any.whl (24 kB)\n",
            "Downloading starlette-0.46.2-py3-none-any.whl (72 kB)\n",
            "\u001b[2K   \u001b[90m━━━━━━━━━━━━━━━━━━━━━━━━━━━━━━━━━━━━━━━━\u001b[0m \u001b[32m72.0/72.0 kB\u001b[0m \u001b[31m4.0 MB/s\u001b[0m eta \u001b[36m0:00:00\u001b[0m\n",
            "\u001b[?25hDownloading uvicorn-0.34.2-py3-none-any.whl (62 kB)\n",
            "\u001b[2K   \u001b[90m━━━━━━━━━━━━━━━━━━━━━━━━━━━━━━━━━━━━━━━━\u001b[0m \u001b[32m62.5/62.5 kB\u001b[0m \u001b[31m3.2 MB/s\u001b[0m eta \u001b[36m0:00:00\u001b[0m\n",
            "\u001b[?25hDownloading fastapi-0.115.12-py3-none-any.whl (95 kB)\n",
            "\u001b[2K   \u001b[90m━━━━━━━━━━━━━━━━━━━━━━━━━━━━━━━━━━━━━━━━\u001b[0m \u001b[32m95.2/95.2 kB\u001b[0m \u001b[31m4.5 MB/s\u001b[0m eta \u001b[36m0:00:00\u001b[0m\n",
            "\u001b[?25hDownloading dnspython-2.7.0-py3-none-any.whl (313 kB)\n",
            "\u001b[2K   \u001b[90m━━━━━━━━━━━━━━━━━━━━━━━━━━━━━━━━━━━━━━━━\u001b[0m \u001b[32m313.6/313.6 kB\u001b[0m \u001b[31m7.2 MB/s\u001b[0m eta \u001b[36m0:00:00\u001b[0m\n",
            "\u001b[?25hDownloading httptools-0.6.4-cp311-cp311-manylinux_2_5_x86_64.manylinux1_x86_64.manylinux_2_17_x86_64.manylinux2014_x86_64.whl (459 kB)\n",
            "\u001b[2K   \u001b[90m━━━━━━━━━━━━━━━━━━━━━━━━━━━━━━━━━━━━━━━━\u001b[0m \u001b[32m459.8/459.8 kB\u001b[0m \u001b[31m14.0 MB/s\u001b[0m eta \u001b[36m0:00:00\u001b[0m\n",
            "\u001b[?25hDownloading python_dotenv-1.1.0-py3-none-any.whl (20 kB)\n",
            "Downloading rich_toolkit-0.14.7-py3-none-any.whl (24 kB)\n",
            "Downloading uvloop-0.21.0-cp311-cp311-manylinux_2_17_x86_64.manylinux2014_x86_64.whl (4.0 MB)\n",
            "\u001b[2K   \u001b[90m━━━━━━━━━━━━━━━━━━━━━━━━━━━━━━━━━━━━━━━━\u001b[0m \u001b[32m4.0/4.0 MB\u001b[0m \u001b[31m73.7 MB/s\u001b[0m eta \u001b[36m0:00:00\u001b[0m\n",
            "\u001b[?25hDownloading watchfiles-1.0.5-cp311-cp311-manylinux_2_17_x86_64.manylinux2014_x86_64.whl (454 kB)\n",
            "\u001b[2K   \u001b[90m━━━━━━━━━━━━━━━━━━━━━━━━━━━━━━━━━━━━━━━━\u001b[0m \u001b[32m454.8/454.8 kB\u001b[0m \u001b[31m23.9 MB/s\u001b[0m eta \u001b[36m0:00:00\u001b[0m\n",
            "\u001b[?25hInstalling collected packages: py3dmol, uvloop, uvicorn, python-multipart, python-dotenv, loguru, httptools, dnspython, watchfiles, starlette, email-validator, rich-toolkit, fastapi, fastapi-cli\n",
            "Successfully installed dnspython-2.7.0 email-validator-2.2.0 fastapi-0.115.12 fastapi-cli-0.0.7 httptools-0.6.4 loguru-0.7.3 py3dmol-2.4.2 python-dotenv-1.1.0 python-multipart-0.0.20 rich-toolkit-0.14.7 starlette-0.46.2 uvicorn-0.34.2 uvloop-0.21.0 watchfiles-1.0.5\n"
          ]
        }
      ],
      "source": [
        "!pip install pandas numpy matplotlib loguru py3dmol httpx \"fastapi[standard]\""
      ]
    },
    {
      "cell_type": "code",
      "execution_count": 2,
      "id": "TNoybLa8bAOE",
      "metadata": {
        "id": "TNoybLa8bAOE"
      },
      "outputs": [],
      "source": [
        "import os, shutil, re, json, logging\n",
        "from google.colab import userdata\n",
        "import requests\n",
        "import py3Dmol\n",
        "from pathlib import Path\n",
        "\n",
        "import asyncio\n",
        "from typing import Any, Dict, Optional\n",
        "from fastapi import HTTPException\n",
        "import httpx\n",
        "from pathlib import Path\n",
        "from enum import StrEnum"
      ]
    },
    {
      "cell_type": "code",
      "execution_count": 5,
      "id": "0f7594b6",
      "metadata": {
        "id": "0f7594b6"
      },
      "outputs": [],
      "source": [
        "logging.basicConfig(level=logging.DEBUG)\n",
        "logger = logging.getLogger(__name__)\n",
        "\n",
        "STATUS_URL = \"https://api.nvcf.nvidia.com/v2/nvcf/pexec/status/{task_id}\"\n",
        "\n",
        "PUBLIC_URL = \"https://health.api.nvidia.com/v1/biology/colabfold/msa-search/predict\""
      ]
    },
    {
      "cell_type": "markdown",
      "id": "9d84f6b8c77d89db",
      "metadata": {
        "id": "9d84f6b8c77d89db"
      },
      "source": [
        "## 1.2 Set Up `output` Directory and `API_KEY`\n",
        "\n",
        "NOTE: Be sure to follow the steps in the [README](https://github.com/bf-nv/bionemo_tutorials/blob/main/README.md) to embed your NVIDIA `API_KEY` into your Google Colab environment."
      ]
    },
    {
      "cell_type": "code",
      "execution_count": 6,
      "id": "sUBUv5skrE_X",
      "metadata": {
        "id": "sUBUv5skrE_X"
      },
      "outputs": [],
      "source": [
        "def prepare_output_directory(output):\n",
        "    \"\"\"\n",
        "    Prepare the output directory\n",
        "    output: str, the output directory\n",
        "    return: None\n",
        "    \"\"\"\n",
        "    # overwrite the output directory\n",
        "    if os.path.exists(output):\n",
        "        shutil.rmtree(output)\n",
        "    os.makedirs(output)"
      ]
    },
    {
      "cell_type": "code",
      "execution_count": 9,
      "id": "OtY-VQxEZVHO",
      "metadata": {
        "id": "OtY-VQxEZVHO"
      },
      "outputs": [],
      "source": [
        "API_KEY = userdata.get('API_KEY')\n",
        "\n",
        "output_dir = \"/content/output/openfold_result\"\n",
        "prepare_output_directory(output_dir)"
      ]
    },
    {
      "cell_type": "markdown",
      "id": "98d0775b",
      "metadata": {
        "id": "98d0775b"
      },
      "source": [
        "## 1.3 Set Up and Run `MSA-Search`"
      ]
    },
    {
      "cell_type": "code",
      "execution_count": 31,
      "id": "4df8fb0b",
      "metadata": {
        "id": "4df8fb0b"
      },
      "outputs": [],
      "source": [
        "async def make_nvcf_call(function_url: str,\n",
        "                         api_key: str,\n",
        "                         data: Dict[str, Any],\n",
        "                         additional_headers: Optional[Dict[str, Any]] = None,\n",
        "                         NVCF_POLL_SECONDS: int = 10,\n",
        "                         MANUAL_TIMEOUT_SECONDS: int = 20) -> Dict:\n",
        "    \"\"\"\n",
        "    Make a call to NVIDIA Cloud Functions using long-polling,\n",
        "    which allows the request to patiently wait if there are many requests in the queue.\n",
        "    \"\"\"\n",
        "    async with httpx.AsyncClient() as client:\n",
        "        headers = {\n",
        "            \"Authorization\": f\"Bearer {api_key}\",\n",
        "            \"NVCF-POLL-SECONDS\": f\"{NVCF_POLL_SECONDS}\",\n",
        "            \"Content-Type\": \"application/json\"\n",
        "            }\n",
        "        if additional_headers is not None:\n",
        "            headers.update(additional_headers)\n",
        "        logger.debug(f\"Headers: {dict(**{h: v for h, v  in headers.items() if 'Authorization' not in h})}\")\n",
        "        # TIMEOUT must be greater than NVCF-POLL-SECONDS\n",
        "        logger.debug(f\"Making NVCF call to {function_url}\")\n",
        "        logger.debug(f\"Data: {data}\")\n",
        "        response = await client.post(function_url,\n",
        "                                     json=data,\n",
        "                                     headers=headers,\n",
        "                                     timeout=MANUAL_TIMEOUT_SECONDS)\n",
        "        logger.debug(f\"NVCF response: {response.status_code, response.headers}\")\n",
        "\n",
        "        if response.status_code == 202:\n",
        "            # Handle 202 Accepted response\n",
        "            task_id = response.headers.get(\"nvcf-reqid\")\n",
        "            while True:\n",
        "                ## Should return in 5 seconds, but we set a manual timeout in 10 just in case\n",
        "                status_response = await client.get(STATUS_URL.format(task_id=task_id),\n",
        "                                                   headers=headers,\n",
        "                                                   timeout=MANUAL_TIMEOUT_SECONDS)\n",
        "                if status_response.status_code == 200:\n",
        "                    return status_response.status_code, status_response\n",
        "                elif status_response.status_code in [400, 401, 404, 422, 500]:\n",
        "                    raise HTTPException(status_response.status_code,\n",
        "                                        \"Error while waiting for function:\\n\",\n",
        "                                        response.text)\n",
        "        elif response.status_code == 200:\n",
        "            return response.status_code, response\n",
        "        else:\n",
        "            raise HTTPException(status_code=response.status_code, detail=response.text)"
      ]
    },
    {
      "cell_type": "markdown",
      "id": "7d84fe4f",
      "metadata": {
        "id": "7d84fe4f"
      },
      "source": [
        "### Query amino acid sequence"
      ]
    },
    {
      "cell_type": "code",
      "execution_count": 32,
      "id": "21d2ab35",
      "metadata": {
        "id": "21d2ab35"
      },
      "outputs": [],
      "source": [
        "# sequence of the protein\n",
        "sequence = \"MHHHHHHGENLYFQGSAPYASLTEIEHLVQSVCKSYRETCQLRLEDLLRQRSNIFSREEVTGYQRKSMWEMWERCAHHLTEAIQYVVEFAKRLSGFMELCQNDQIVLLKAGAMEVVLVRMCRAYNADNRTVFFEGKYGGMELFRALGCSELISSIFDFSHSLSALHFSEDEIALYTALVLINAHRPGLQEKRKVEQLQYNLELAFHHHLCKTHRQSILAKLPPKGKLRSLCSQHVERLQIFQHLHPIVVQAAFPPLYKELFSGNS\""
      ]
    },
    {
      "cell_type": "markdown",
      "id": "b72e9f4e",
      "metadata": {
        "id": "b72e9f4e"
      },
      "source": [
        "### Run `MSA-Search`"
      ]
    },
    {
      "cell_type": "code",
      "execution_count": 33,
      "id": "3ec6adc8",
      "metadata": {
        "id": "3ec6adc8",
        "outputId": "d5856cc3-286e-42d7-ced9-f5bee1737993",
        "colab": {
          "base_uri": "https://localhost:8080/"
        }
      },
      "outputs": [
        {
          "output_type": "stream",
          "name": "stdout",
          "text": [
            "Making request...\n",
            "Request succeeded, returned 200\n",
            "The returned databases were: ['Uniref30_2302'] .\n",
            "The returned formats were: ['a3m', 'fasta'] .\n",
            "The returned FASTA contained 33708 characters.\n"
          ]
        }
      ],
      "source": [
        "# MSA-Search output file\n",
        "output_file = Path(\"msa_output.json\")\n",
        "\n",
        "msa_sequence = (sequence)\n",
        "\n",
        "# Initial request\n",
        "## Note: headers are set in make_nvcf_call function\n",
        "data = {\n",
        "    \"sequence\": msa_sequence,\n",
        "    \"e_value\": 0.0001,\n",
        "    \"iterations\": 1,\n",
        "    \"databases\": [\"Uniref30_2302\"],\n",
        "    \"output_alignment_formats\" : [\"a3m\", \"fasta\"]\n",
        "}\n",
        "\n",
        "print(\"Making request...\")\n",
        "code, response = await make_nvcf_call(function_url=PUBLIC_URL,\n",
        "                                      api_key=API_KEY,\n",
        "                                      data=data)\n",
        "\n",
        "if code == 200:\n",
        "    print(f\"Request succeeded, returned {code}\")\n",
        "    response_dict = response.json()\n",
        "    output_file.write_text(json.dumps(response_dict, indent=4))\n",
        "    ## print the dictionaries in the alignments portion of the response:\n",
        "    print(f\"The returned databases were: {list(response_dict['alignments'].keys())} .\")\n",
        "    ## print the file formats returned:\n",
        "    print(f\"The returned formats were: {list(response_dict['alignments']['Uniref30_2302'].keys())} .\")\n",
        "    ## print the length of the FASTA-formatted alignment:\n",
        "    print(f\"The returned FASTA contained {len(response_dict['alignments']['Uniref30_2302']['fasta']['alignment'])} characters.\")"
      ]
    },
    {
      "cell_type": "markdown",
      "id": "13ecbc92",
      "metadata": {
        "id": "13ecbc92"
      },
      "source": [
        "## 1.4 Process `MSA-Search` Result\n",
        "\n",
        "`a3m` file format is required by `OpenFold2`\n",
        "\n",
        "https://docs.nvidia.com/nim/bionemo/openfold2/latest/example-requests.html#"
      ]
    },
    {
      "cell_type": "code",
      "source": [
        "import re\n",
        "\n",
        "import re\n",
        "\n",
        "def extract_uniref_sequences(s, n, query_seq):\n",
        "    \"\"\"\n",
        "    Extracts up to the first n lines starting from the first '>UniRef' occurrence,\n",
        "    removes everything after the first tab on each line,\n",
        "    and returns the cleaned lines as a single string, with the first row as '>query_seq\\n{sequence}'.\n",
        "    'sequence' is the string before the first '>UniRef', with newlines removed.\n",
        "    \"\"\"\n",
        "    n = n * 2\n",
        "    match = re.search(r'>UniRef', s)\n",
        "    if match:\n",
        "        # Extract the sequence before the first UniRef\n",
        "        sequence = s[:match.start()].replace('\\n', '')\n",
        "        # Get everything from the first UniRef onward\n",
        "        sub = s[match.start():]\n",
        "        lines = sub.split('\\n')\n",
        "        cleaned_lines = [line.split('\\t')[0] for line in lines if line.strip() != '']\n",
        "        # Add the query_seq as the first row\n",
        "        output_lines = [f\">query_sequence\\n{query_seq}\"] + cleaned_lines[:n]\n",
        "        return '\\n'.join(output_lines)\n",
        "    else:\n",
        "        return None"
      ],
      "metadata": {
        "id": "_tXo0gYD5-Go"
      },
      "id": "_tXo0gYD5-Go",
      "execution_count": 66,
      "outputs": []
    },
    {
      "cell_type": "code",
      "source": [
        "a3m_dict_msa_search = response_dict['alignments']['Uniref30_2302']['a3m']['alignment']\n",
        "a3m_dict_msa_search = extract_uniref_sequences(a3m_dict_msa_search, 4, sequence)\n",
        "a3m_dict_msa_search"
      ],
      "metadata": {
        "id": "E0v7eJx2prfr",
        "outputId": "c699c9b8-140f-4558-e878-bf35ad1b5a2a",
        "colab": {
          "base_uri": "https://localhost:8080/",
          "height": 140
        }
      },
      "id": "E0v7eJx2prfr",
      "execution_count": 70,
      "outputs": [
        {
          "output_type": "execute_result",
          "data": {
            "text/plain": [
              "'>query_sequence\\nMHHHHHHGENLYFQGSAPYASLTEIEHLVQSVCKSYRETCQLRLEDLLRQRSNIFSREEVTGYQRKSMWEMWERCAHHLTEAIQYVVEFAKRLSGFMELCQNDQIVLLKAGAMEVVLVRMCRAYNADNRTVFFEGKYGGMELFRALGCSELISSIFDFSHSLSALHFSEDEIALYTALVLINAHRPGLQEKRKVEQLQYNLELAFHHHLCKTHRQSILAKLPPKGKLRSLCSQHVERLQIFQHLHPIVVQAAFPPLYKELFSGNS\\n>UniRef100_A0A6J0U6P0\\n----------------SPNSSLTEIEHLTQNVLKSYRETCQLRLEDLQLLRWETFTKEEVGSYQKKSMEEMWERCACHITEAIQYVVEFAKRMSGFMDLCQNDQIVLLKAGAMEVVLVRMCRAFNSENRTVFFEGKYASPELFKSLGCNELINSIFDFAHSLSSLHFSENEIALFTALVLINSNRPWLQEKSKVERLQNNLELAFKHMLRKNHREGILAKLPPKGKLRNLCYQHMEKLRSFRQMYPIIVHAVFPPLYKELFSSD-\\n>UniRef100_UPI002303DBCD\\n----------------SPNSSLTEIEHLTQNVLKSYRETCQLRLEDLQLLRWEAFTREEVGSYQKKSIEEMWERCACRVTEAIQYVVEFAKRMGGFMELCQNDQIVLLKAGAMEVVLVRMCRAFNSENRTVFFEGKYAGPELFKSLGCNELINSIFDFAHSLCSLHFSENEIALFTALVLINSNRPWLQERSKVERLQNNLELAFKHMLRKNHREGILAKLPPKGKLRSLCYQHMEKLRSFRQMYPIIVHAVFPPLYKELFSSD-\\n>UniRef100_A0A1U7SQV7\\n----------------SPHSSVTEIEHLTQNVLKSYRETCQLRLEDLQLLRWETFSREEVSTYQKKSMEEMWERCACRITEAIQYVVEFAKRMGGFMELCQNDQIVLLKAGAMEVVLVRMCRAFNSENRTVFFEGKYAGPELFKSLGCNELINSIFDFAHGLCSLHFTENEIALFTALVLINANRPWLQEKGKVERLQDNLELAFKHMLRKSHREGLLAKLPPKGKLRSLCCQHMEKLRSFRQMHPIVVHAVFPPLYKELFSAE-\\n>UniRef100_UPI001C4A965F\\n----------------SPNSSLTEIEHLTQNVLKSYRETCQLRLEDLQLLRLETFTREEVGSYQKKSMEEMWERCACRITEAIQYVVEFAKRMAGFMDLCQNDQIVLLKAGAMEVVLVRMCRAFNPEDRTVFFEGKYAGPELFKSLGCNELISSIFDFAHSLCSLHFSENEIALFTALVLINSNRPWLQEKSKVERLQNNLELAFKHMLRKNHREGILAKLPPKGKLRNLCYQHMEKLRSFRQMYPIIVHAVFPPLYKELFSSDS'"
            ],
            "application/vnd.google.colaboratory.intrinsic+json": {
              "type": "string"
            }
          },
          "metadata": {},
          "execution_count": 70
        }
      ]
    },
    {
      "cell_type": "markdown",
      "id": "9ddb918c7c3b3fc7",
      "metadata": {
        "id": "9ddb918c7c3b3fc7"
      },
      "source": [
        "## 1.4 Use `OpenFold2` to Predict the Protein Structure"
      ]
    },
    {
      "cell_type": "code",
      "execution_count": 71,
      "id": "49492d5b3354227",
      "metadata": {
        "ExecuteTime": {
          "end_time": "2024-04-25T14:09:43.098471Z",
          "start_time": "2024-04-25T14:09:43.094950Z"
        },
        "id": "49492d5b3354227",
        "outputId": "341e51e5-6cb7-4816-869b-119826de517c",
        "colab": {
          "base_uri": "https://localhost:8080/"
        }
      },
      "outputs": [
        {
          "output_type": "stream",
          "name": "stdout",
          "text": [
            "length of protein: 265 aa\n"
          ]
        }
      ],
      "source": [
        "output_file = Path(f\"{output_dir}/prediction_output.json\")\n",
        "selected_models = [1, 2]\n",
        "\n",
        "print(f\"length of protein: {len(sequence)} aa\")"
      ]
    },
    {
      "cell_type": "code",
      "execution_count": 72,
      "id": "7RqxPtfkh1Hf",
      "metadata": {
        "id": "7RqxPtfkh1Hf"
      },
      "outputs": [],
      "source": [
        "invoke_url = \"https://health.api.nvidia.com/v1/biology/openfold/openfold2/predict-structure-from-msa-and-template\"\n",
        "\n",
        "headers = {\n",
        "    \"Authorization\": f\"Bearer {API_KEY}\",\n",
        "    \"content-type\": \"application/json\",\n",
        "    \"NVCF-POLL-SECONDS\": \"300\",\n",
        "}\n",
        "\n",
        "payload = {\n",
        "    \"sequence\": sequence,\n",
        "    \"selected_models\": [1, 2],\n",
        "    \"relax_prediction\": False,\n",
        "    \"alignments\": {\n",
        "        \"uniref90\": {\n",
        "            \"a3m\": {\n",
        "                \"alignment\": a3m_dict_msa_search,\n",
        "                \"format\": \"a3m\",\n",
        "            }\n",
        "        },\n",
        "    },\n",
        "}"
      ]
    },
    {
      "cell_type": "code",
      "execution_count": 75,
      "id": "600d272ab0fe45fa",
      "metadata": {
        "ExecuteTime": {
          "end_time": "2024-04-25T14:10:12.886175Z",
          "start_time": "2024-04-25T14:09:43.855932Z"
        },
        "id": "600d272ab0fe45fa",
        "outputId": "595c22b2-ca28-4cd8-a050-a031faaa9d2c",
        "colab": {
          "base_uri": "https://localhost:8080/"
        }
      },
      "outputs": [
        {
          "output_type": "stream",
          "name": "stdout",
          "text": [
            "Making request, this may take several seconds...\n",
            "Response output to file: /content/output/openfold_result/prediction_output.json\n"
          ]
        }
      ],
      "source": [
        "# initiate a session to re-use connections\n",
        "session = requests.Session()\n",
        "print(\"Making request, this may take several seconds...\")\n",
        "response = session.post(invoke_url, headers=headers, json=payload)\n",
        "\n",
        "if response.status_code == 200:\n",
        "    output_file.write_text(response.text)\n",
        "    print(f\"Response output to file: {output_file}\")\n",
        "else:\n",
        "    print(f\"Unexpected HTTP status: {response.status_code}\")\n",
        "    print(f\"Response: {response.text}\")\n",
        "\n",
        "result = response.json()\n",
        "pred_pdb_file = result[\"structures_in_ranked_order\"][0][\"structure\"]"
      ]
    },
    {
      "cell_type": "markdown",
      "id": "9f68a5eea7ecdc22",
      "metadata": {
        "id": "9f68a5eea7ecdc22"
      },
      "source": [
        "## 1.5 Save the `PDB` Result"
      ]
    },
    {
      "cell_type": "code",
      "execution_count": null,
      "id": "efac8aba836c6ebc",
      "metadata": {
        "ExecuteTime": {
          "end_time": "2024-04-25T14:10:17.007357Z",
          "start_time": "2024-04-25T14:10:17.004376Z"
        },
        "id": "efac8aba836c6ebc"
      },
      "outputs": [],
      "source": [
        "# Write PDB file\n",
        "fp = os.path.join(output_dir, f\"predicted_protein.pdb\")\n",
        "with open(fp, \"w\") as f:\n",
        "    f.write(pred_pdb_file) # the str representation of the PDB file"
      ]
    },
    {
      "cell_type": "code",
      "execution_count": null,
      "id": "7thHIH6h9VId",
      "metadata": {
        "id": "7thHIH6h9VId"
      },
      "outputs": [],
      "source": [
        "# Download the predicted protein PDB file, which needs to be uploaded in Step 3 DiffDock inference\n",
        "from google.colab import files\n",
        "pred_pdb_file = '/content/output/openfold_result/predicted_protein.pdb'\n",
        "files.download(pred_pdb_file)"
      ]
    },
    {
      "cell_type": "markdown",
      "id": "rNwT_CTX8aEj",
      "metadata": {
        "id": "rNwT_CTX8aEj"
      },
      "source": [
        "## 1.6 Visualize the Result"
      ]
    },
    {
      "cell_type": "markdown",
      "id": "7f870cb68f0154a7",
      "metadata": {
        "id": "7f870cb68f0154a7"
      },
      "source": [
        "We can examine the predicted protein structure along with its pLDDT confidence scores. These scores are stored in the B-factor field of the returned structure data.\n",
        "\n",
        "To maintain consistency with the [EBI/AlphaFold Database](https://alphafold.ebi.ac.uk/), we’ll use pLDDT scores to indicate confidence in the predicted protein structure. These scores will be visualized using `py3Dmol`, with color coding to highlight regions of varying reliability.\n",
        "\n",
        "<DIV style=\"width: 600px;\">\n",
        "<IMG src=\"https://res.cloudinary.com/dpfqlyh21/image/upload/v1705026011/obsidian/izrfmiepbzpnzm2aoqwh.png\">\n",
        "</DIV>\n",
        "\n",
        "\n"
      ]
    },
    {
      "cell_type": "code",
      "execution_count": null,
      "id": "z9nW3hzrmpR5",
      "metadata": {
        "id": "z9nW3hzrmpR5"
      },
      "outputs": [],
      "source": [
        "def load_protein(pdb_file_path, width=800, height=600):\n",
        "\n",
        "    \"\"\"\n",
        "    Load a protein structure from a PDB file and display it using py3Dmol.\n",
        "    pdb_file_path: str, path to the PDB file\n",
        "    width: int, width of the viewer in pixels\n",
        "    height: int, height of the viewer in pixels\n",
        "    return: py3Dmol.view object\n",
        "    \"\"\"\n",
        "\n",
        "    with open(pdb_file_path) as ifile:\n",
        "        pdb_data = \"\".join([x for x in ifile])\n",
        "\n",
        "    view = py3Dmol.view(width=width, height=height)\n",
        "    view.addModelsAsFrames(pdb_data)\n",
        "\n",
        "    for line in pdb_data.split(\"\\n\"):\n",
        "        split = line.split()\n",
        "        if len(split) == 0 or split[0] != \"ATOM\":\n",
        "            continue\n",
        "        # Assuming the B-factor is at position 10 (you may need to adjust this based on your PDB format)\n",
        "        b_factor = float(split[10])\n",
        "        if b_factor > 90:\n",
        "            color = \"blue\"\n",
        "        elif 70 <= b_factor <= 90:\n",
        "            color = \"cyan\"\n",
        "        elif 50 <= b_factor < 70:\n",
        "            color = \"yellow\"\n",
        "        else:\n",
        "            color = \"orange\"\n",
        "\n",
        "        # Atom serial numbers typically start from 1, hence idx should be used directly\n",
        "        idx = int(split[1])\n",
        "\n",
        "        # Style should be set per atom id\n",
        "        view.setStyle({'model': -1, 'serial': idx}, {\"cartoon\": {'color': color}})\n",
        "    view.zoomTo()\n",
        "    return view"
      ]
    },
    {
      "cell_type": "code",
      "execution_count": null,
      "id": "e9abf0ca5d3e4e7f",
      "metadata": {
        "ExecuteTime": {
          "end_time": "2024-04-25T14:10:32.426898Z",
          "start_time": "2024-04-25T14:10:32.227978Z"
        },
        "id": "e9abf0ca5d3e4e7f"
      },
      "outputs": [],
      "source": [
        "view = load_protein(\n",
        "    pdb_file_path = '/content/output/openfold_result/predicted_protein.pdb',\n",
        "    width=800,\n",
        "    height=500\n",
        ")\n",
        "view.show()"
      ]
    },
    {
      "cell_type": "markdown",
      "id": "42583ed12170800e",
      "metadata": {
        "id": "42583ed12170800e"
      },
      "source": [
        "## 1.7 Visualize the Superimposed Structure\n",
        "\n",
        "To demonstrate how the `OpenFold2` predicted structure aligns with the experimentally determined one, we’ll use a local PDB file since [PDB: 4WQP](https://www.rcsb.org/structure/4WQP) is a dimer in RCSB, but we need the monomer.\n",
        "\n",
        "Monomer of 4WQP: [4wqp_monomer.pdb](4wqp_monomer.pdb)"
      ]
    },
    {
      "cell_type": "markdown",
      "id": "bTC8EOheceEL",
      "metadata": {
        "id": "bTC8EOheceEL"
      },
      "source": [
        "### Establish the `PyMOL` Environment for Structure Alignment\n",
        "\n",
        "`PyMOL` will be used to align the `OpenFold2` predicted protein structure with the ground truth PDB file.\n",
        "\n",
        "1) Install `PyMOL` in your Google Colab environment.\n",
        "\n",
        "2) Verify the installation by following the tutorial provided here: https://github.com/MooersLab/colabOpenSourcePyMOLpySnips?tab=readme-ov-file.\n",
        "\n"
      ]
    },
    {
      "cell_type": "code",
      "execution_count": null,
      "id": "exnh2FgjpHvX",
      "metadata": {
        "id": "exnh2FgjpHvX"
      },
      "outputs": [],
      "source": [
        "from IPython.utils import io\n",
        "import tqdm.notebook\n",
        "import os\n",
        "\"\"\"The PyMOL installation is done inside two nested context managers. This approach\n",
        "was inspired by Dr. Christopher Schlick's (of the Phenix group at\n",
        "Lawrence Berkeley National Laboratory) method for installing cctbx\n",
        "in a Colab Notebook. He presented his work on September 1, 2021 at the IUCr\n",
        "Crystallographic Computing School. Blaine Mooers adapted Chris's approach here. This revised\n",
        "approach was presentated at the SciPy2021 conference in July 2021 and published in the\n",
        "[proceedings](http://conference.scipy.org/proceedings/scipy2021/blaine_mooers.html).\n",
        "The new approach is easier for beginners to use. The old approach is easier to debug\n",
        "and could be used as a back-up approach.\n",
        "\n",
        "Thank you to Professor David Oppenheimer of the University of Florida for suggesting the use mamba and of Open Source PyMOL.\n",
        "\"\"\"\n",
        "total = 100\n",
        "with tqdm.notebook.tqdm(total=total) as pbar:\n",
        "    with io.capture_output() as captured:\n",
        "\n",
        "        !pip install -q condacolab\n",
        "        import condacolab\n",
        "        condacolab.install()\n",
        "        pbar.update(10)\n",
        "\n",
        "        import sys\n",
        "        sys.path.append('/usr/local/lib/python3.10/site-packages/')\n",
        "        pbar.update(20)\n",
        "\n",
        "        # Install PyMOL\n",
        "        %shell mamba install pymol-open-source --yes\n",
        "\n",
        "        pbar.update(100)"
      ]
    },
    {
      "cell_type": "markdown",
      "id": "0f52d60c",
      "metadata": {
        "id": "0f52d60c"
      },
      "source": [
        "### Code below tests if `PyMol` installation was successful\n",
        "\n",
        "If the test failed, try to run the installation cell above again"
      ]
    },
    {
      "cell_type": "code",
      "execution_count": null,
      "id": "WQryzShqmPKf",
      "metadata": {
        "id": "WQryzShqmPKf"
      },
      "outputs": [],
      "source": [
        "from pymol import cmd\n",
        "from IPython.display import Image\n",
        "\n",
        "# download the ground truth pdb \"4wqp_monomer.pdb\"\n",
        "!wget https://raw.githubusercontent.com/bf-nv/bionemo_tutorials/refs/heads/main/4wqp_monomer.pdb\n",
        "\n",
        "true_pdb_file = '/content/4wqp_monomer.pdb' # true crystal structure\n",
        "\n",
        "def truncate_string(input_string):\n",
        "    # Find the last occurrence of '/'\n",
        "    last_slash_index = input_string.rfind('/')\n",
        "    return input_string[last_slash_index + 1:]\n",
        "\n",
        "# Using local PDB file since 4WQP is a dimer in RCSB, but we need the monomer\n",
        "# Load the local PDB file\n",
        "cmd.load(true_pdb_file)\n",
        "obj_name = truncate_string(true_pdb_file).split(\".\")[0]\n",
        "cmd.orient(obj_name)\n",
        "cmd.set_view((-0.292365283,    0.898809373,    0.326595277,\n",
        "               0.506281018,   -0.144253701,    0.850216091,\n",
        "               0.811294436,    0.413922817,   -0.412875712,\n",
        "               0.000079364,   -0.000037231, -176.867355347,\n",
        "              19.699285507,  -33.096054077,    0.763063431,\n",
        "             139.444869995,  214.293136597,  -20.000000000 ))\n",
        "cmd.png(\"test.png\")\n",
        "Image(filename=\"test.png\", unconfined=True)"
      ]
    },
    {
      "cell_type": "markdown",
      "id": "33cdd0a7",
      "metadata": {
        "id": "33cdd0a7"
      },
      "source": [
        "### Function to align ground-truth PDB with the `OpenFold2` predicted structure"
      ]
    },
    {
      "cell_type": "code",
      "execution_count": null,
      "id": "zWk1UI-Mpw6X",
      "metadata": {
        "id": "zWk1UI-Mpw6X"
      },
      "outputs": [],
      "source": [
        "import py3Dmol\n",
        "from pymol import cmd\n",
        "import os\n",
        "\n",
        "def align_protein(pred_pdb_file, true_pdb_file, output_dir, pred_color = 'cyan', true_color = 'green', width=800, height=600):\n",
        "    \"\"\"\n",
        "    Align two protein structures and display them using py3Dmol.\n",
        "    pred_pdb_file: str, path to the PDB file of the predicted protein\n",
        "    true_pdb_file: str, path to the PDB file of the true protein\n",
        "    output_dir: str, path to the output directory to save the aligned PDB files\n",
        "    pred_color: str, color of the predicted protein in the viewer\n",
        "    true_color: str, color of the true protein in the viewer\n",
        "    width: int, width of the viewer in pixels\n",
        "    height: int, height of the viewer in pixels\n",
        "    return: py3Dmol.view object\n",
        "    \"\"\"\n",
        "\n",
        "    # always reinitialize!\n",
        "    cmd.reinitialize()\n",
        "\n",
        "    cmd.load(pred_pdb_file, 'predicted_protein')\n",
        "    cmd.load(true_pdb_file, 'true_protein')\n",
        "\n",
        "    # Align the structures on the backbone atoms\n",
        "    cmd.align('predicted_protein & backbone', 'true_protein & backbone', quiet=0)\n",
        "\n",
        "    # Save the aligned structures\n",
        "    pred_aligned_fp = os.path.join(output_dir, 'aligned_predicted_protein.pdb')\n",
        "    true_aligned_fp = os.path.join(output_dir, 'aligned_true_protein.pdb')\n",
        "    cmd.save(pred_aligned_fp, 'predicted_protein')\n",
        "    cmd.save(true_aligned_fp, 'true_protein')\n",
        "\n",
        "    # Read PDB files into strings (assuming they are in the current directory)\n",
        "    with open(pred_aligned_fp, 'r') as file:\n",
        "        pred_pdb_data = file.read()\n",
        "\n",
        "    with open(true_aligned_fp, 'r') as file:\n",
        "        true_pdb_data = file.read()\n",
        "\n",
        "    # Create a py3Dmol view\n",
        "    view = py3Dmol.view(width=width, height=height)\n",
        "\n",
        "    # Add the predicted protein model\n",
        "    view.addModel(pred_pdb_data, 'pdb')\n",
        "    # Set a specific color for the predicted protein, e.g., green\n",
        "    view.setStyle({'model': 0}, {'cartoon': {'color': pred_color}})\n",
        "\n",
        "    # Add the true protein model\n",
        "    view.addModel(true_pdb_data, 'pdb')\n",
        "    # Set a different specific color for the true protein, e.g., blue\n",
        "    view.setStyle({'model': 1}, {'cartoon': {'color': true_color}})\n",
        "\n",
        "    view.zoomTo()\n",
        "    return view"
      ]
    },
    {
      "cell_type": "markdown",
      "id": "8b899d9f",
      "metadata": {
        "id": "8b899d9f"
      },
      "source": [
        "### Visualize the Results"
      ]
    },
    {
      "cell_type": "code",
      "execution_count": null,
      "id": "c8dffc70d4f6cf31",
      "metadata": {
        "ExecuteTime": {
          "end_time": "2024-04-25T14:10:45.721882Z",
          "start_time": "2024-04-25T14:10:45.597791Z"
        },
        "id": "c8dffc70d4f6cf31"
      },
      "outputs": [],
      "source": [
        "view = align_protein(\n",
        "    pred_pdb_file = '/content/output/openfold_result/predicted_protein.pdb', # prediction\n",
        "    true_pdb_file = '/content/4wqp_monomer.pdb', # true crystal structure\n",
        "    output_dir = '/content/output/openfold_result', # output directory to store the aligned poses so that py3dmol can load back\n",
        "    pred_color = 'cyan', # color for the predicted structure\n",
        "    true_color = 'green', # color for the true structure\n",
        "    width=800,\n",
        "    height=500\n",
        ")\n",
        "view.show()"
      ]
    },
    {
      "cell_type": "code",
      "execution_count": null,
      "id": "roME1VEbp8G0",
      "metadata": {
        "id": "roME1VEbp8G0"
      },
      "outputs": [],
      "source": []
    }
  ],
  "metadata": {
    "colab": {
      "provenance": []
    },
    "kernelspec": {
      "display_name": "Python 3",
      "name": "python3"
    },
    "language_info": {
      "codemirror_mode": {
        "name": "ipython",
        "version": 3
      },
      "file_extension": ".py",
      "mimetype": "text/x-python",
      "name": "python",
      "nbconvert_exporter": "python",
      "pygments_lexer": "ipython3",
      "version": "3.11.9"
    }
  },
  "nbformat": 4,
  "nbformat_minor": 5
}