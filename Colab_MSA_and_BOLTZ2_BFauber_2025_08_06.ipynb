{
 "cells": [
  {
   "cell_type": "markdown",
   "metadata": {},
   "source": [
    "# MSA-Search NIM + BOLTZ-2 NIM Study\n",
    "\n",
    "MSA-Search NIM: https://build.nvidia.com/colabfold/msa-search\n",
    "\n",
    "BOLTZ-2 NIM: https://build.nvidia.com/mit/boltz2\n",
    "\n",
    "06Aug2025"
   ]
  },
  {
   "cell_type": "markdown",
   "metadata": {},
   "source": [
    "## 1.1 Set Up the Environment"
   ]
  },
  {
   "cell_type": "code",
   "execution_count": null,
   "metadata": {},
   "outputs": [],
   "source": [
    "!pip install pandas numpy matplotlib httpx \"fastapi[standard]\""
   ]
  },
  {
   "cell_type": "code",
   "execution_count": null,
   "metadata": {},
   "outputs": [],
   "source": [
    "import json\n",
    "import os\n",
    "import requests\n",
    "import re\n",
    "import shutil\n",
    "from google.colab import userdata\n",
    "\n",
    "import asyncio\n",
    "from typing import Any, Dict, Optional\n",
    "from pathlib import Path\n",
    "from enum import StrEnum\n",
    "import logging\n",
    "import sys"
   ]
  },
  {
   "cell_type": "markdown",
   "metadata": {},
   "source": [
    "## 1.2 Set Up `output` Directory and `API_KEY`\n",
    "\n",
    "**NOTE:** Be sure to follow the steps in the README to embed your NVIDIA `API_KEY` into your Google Colab environment."
   ]
  },
  {
   "cell_type": "code",
   "execution_count": null,
   "metadata": {},
   "outputs": [],
   "source": [
    "def prepare_output_directory(output):\n",
    "    \"\"\"\n",
    "    Prepare the output directory\n",
    "    output: str, the output directory\n",
    "    return: None\n",
    "    \"\"\"\n",
    "    # Overwrite the output directory\n",
    "    if os.path.exists(output):\n",
    "        shutil.rmtree(output)\n",
    "    os.makedirs(output)"
   ]
  },
  {
   "cell_type": "code",
   "execution_count": null,
   "metadata": {},
   "outputs": [],
   "source": [
    "API_KEY = userdata.get('API_KEY')\n",
    "\n",
    "# Output_dir for intermediate openfold structures\n",
    "output_dir = \"/content/output\"\n",
    "prepare_output_directory(output_dir)"
   ]
  },
  {
   "cell_type": "markdown",
   "metadata": {},
   "source": [
    "#### Define Protein Sequence and Databases to use for MSA-Search"
   ]
  },
  {
   "cell_type": "code",
   "execution_count": null,
   "metadata": {},
   "outputs": [],
   "source": [
    "sequence = \"ASLTEIEHLVQSVCKSYRETCQLRLEDLLRQRSNIFSREEVTGYQRKSMWEMWERCAHHLTEAIQYVVEFAKRLSGFMELCQNDQIVLLKAGAMEVVLVRMCRAYNADNRTVFFEGKYGGMELFRALGCSELISSIFDFSHSLSALHFSEDEIALYTALVLINAHRPGLQEKRKVEQLQYNLELAFHHHLCKTHRQSILAKLPPKGKLRSLCSQHVERLQIFQHLHPIVVQAAF\"\n",
    "databases = ['Uniref30_2302', 'colabfold_envdb_202108', 'PDB70_220313']\n"
   ]
  },
  {
   "cell_type": "markdown",
   "metadata": {},
   "source": [
    "## 1.3 Set Up and Run `MSA-Search`"
   ]
  },
  {
   "cell_type": "code",
   "execution_count": null,
   "metadata": {},
   "outputs": [],
   "source": [
    "msa_search_url = \"https://health.api.nvidia.com/v1/biology/colabfold/msa-search/predict\"\n",
    "payload = {\n",
    "    \"sequence\": sequence,\n",
    "    \"databases\": databases,\n",
    "    \"e_value\": 0.0001,\n",
    "    \"iterations\": 1,\n",
    "    \"max_msa_sequences\": 10000,\n",
    "    \"run_structural_template_search\": False,\n",
    "    \"output_alignment_formats\": [\"a3m\"],\n",
    "}\n",
    "\n",
    "headers = {\n",
    "    \"Authorization\": f\"Bearer {API_KEY}\",\n",
    "    \"content-type\": \"application/json\",\n",
    "    \"NVCF-POLL-SECONDS\": \"300\",\n",
    "}\n",
    "# Call MSA-Search NIM\n",
    "response = requests.post(msa_search_url, json=payload, headers=headers)\n",
    "msa_response_dict = response.json()\n",
    "print(f\"MSA response : \\n {msa_response_dict}\")\n",
    "\n",
    "with open('msa_output.json', 'w') as json_file:\n",
    "    json.dump(msa_response_dict, json_file, indent=4)"
   ]
  },
  {
   "cell_type": "markdown",
   "metadata": {},
   "source": [
    "#### Merge and Sort Alignments From MSA-Search For BOLTZ-2 Input"
   ]
  },
  {
   "cell_type": "code",
   "execution_count": null,
   "metadata": {},
   "outputs": [],
   "source": [
    "def parse_sequences(input_string, n, query_seq):\n",
    "    '''\n",
    "    Parse the output of alignments from the MSA-Search NIM to be used downstream\n",
    "    input_string: The output file of alignments in a string format\n",
    "    n: The amount of alignments to return from the output when parsing\n",
    "    query_seq: The query sequence for alignment\n",
    "    Returns: A list of alignment identifiers and sequences, starting with the query, where the amount of sequences is given by n\n",
    "    '''\n",
    "\n",
    "    # Output is parsed to have a line for the sequence id and sequence itself so `n` returns correlates to n*2 lines\n",
    "    n = n * 2\n",
    "\n",
    "    # First, handle the `Query` block separately\n",
    "    lines = input_string.strip().split('\\n')\n",
    "\n",
    "    # Now process the rest of the lines\n",
    "    remaining_string = \"\\n\".join(lines[:])\n",
    "\n",
    "    # Regex to find blocks starting with `>` and then followed by a sequence.\n",
    "    pattern = re.compile(r'\\n>(.*?)\\n(.*?)(?=\\n>|\\Z)', re.DOTALL)\n",
    "\n",
    "    matches = pattern.finditer(remaining_string)\n",
    "\n",
    "    output_list = []\n",
    "    output_list_to_order = []\n",
    "\n",
    "    for num_match, match in enumerate(matches):\n",
    "\n",
    "        # The name is the first capturing group, split by tab and take the first part\n",
    "        name_full = match.group(1).split('\\t')[0]\n",
    "        SW_score = match.group(1).split('\\t')[1]\n",
    "\n",
    "        # The sequence is the second capturing group\n",
    "        sequence = match.group(2).strip()\n",
    "\n",
    "        # Store the aligned sequence in the list of outputs by name, sequence, Smith-Waterman score\n",
    "        output_list_to_order.append((f'>{name_full}', sequence, int(SW_score)))\n",
    "\n",
    "    output_lines = output_list_to_order[:n]\n",
    "\n",
    "    return output_lines"
   ]
  },
  {
   "cell_type": "code",
   "execution_count": null,
   "metadata": {},
   "outputs": [],
   "source": [
    "# Parse the MSA alignment results to merge results from all datasets used for MSA\n",
    "all_parsed_dataset_output = []\n",
    "for num_done, database in enumerate(databases):\n",
    "\n",
    "  print(f\"Parsing results from database: {database}\")\n",
    "\n",
    "  # Pull string of alignments stored in json output for specific dataset\n",
    "  a3m_dict_msa_search = msa_response_dict['alignments'][database]['a3m']['alignment']\n",
    "\n",
    "  a3m_dict_msa_search_parsed = parse_sequences(a3m_dict_msa_search, 10000, sequence)\n",
    "\n",
    "  num_sequences_aligned = (len(a3m_dict_msa_search_parsed))\n",
    "  print(f\"num_sequences aligned {num_sequences_aligned}\")\n",
    "\n",
    "  all_parsed_dataset_output.extend(a3m_dict_msa_search_parsed)\n",
    "\n",
    "\n",
    "# Sort all the alignments based off of the alignment score\n",
    "all_parsed_dataset_output.sort(key=lambda x: x[2], reverse=True)\n",
    "\n",
    "# Now that the alignments across all datasets are sorted, reformat each entry to name and sequence\n",
    "sorted_parsed_output_formatted = []\n",
    "for align_tuple in all_parsed_dataset_output:\n",
    "  sorted_parsed_output_formatted.append(align_tuple[0])\n",
    "  sorted_parsed_output_formatted.append(align_tuple[1])\n",
    "\n",
    "merged_alignments_protein = [f\">query_sequence\\n{sequence}\"]\n",
    "\n",
    "merged_alignments_protein.extend(sorted_parsed_output_formatted)\n",
    "\n",
    "\n",
    "print(f\"Merged alignments: \\n {merged_alignments_protein}\")"
   ]
  },
  {
   "cell_type": "markdown",
   "metadata": {},
   "source": [
    "## 1.4 Set Up and Run `BOLTZ-2`"
   ]
  },
  {
   "cell_type": "code",
   "execution_count": null,
   "metadata": {},
   "outputs": [],
   "source": [
    "ligand_smiles = \"CC(=O)OC1=CC=CC=C1C(=O)O\"\n",
    "\n",
    "sequence = \"MKTVRQERLKSIVRILERSKEPVSGAQLAEELSVSRQVIVQDIAYLRSLGYNIVATPRGYVLAGG\"\n",
    "\n",
    "output_file = Path(\"boltz2_output.json\")"
   ]
  },
  {
   "cell_type": "code",
   "execution_count": null,
   "metadata": {},
   "outputs": [],
   "source": [
    "# Check for required BOLTZ-2 dependencies\n",
    "missing_deps = []\n",
    "try:\n",
    "    import httpx\n",
    "except ImportError:\n",
    "    missing_deps.append(\"httpx\")\n",
    "try:\n",
    "    from fastapi import HTTPException\n",
    "except ImportError:\n",
    "    missing_deps.append(\"fastapi\")\n",
    "\n",
    "if missing_deps:\n",
    "    print(\"Error: Missing required dependencies. Please install them using:\")\n",
    "    print(f\"pip install {' '.join(missing_deps)}\")\n",
    "    sys.exit(1)\n",
    "\n",
    "logging.basicConfig(level=logging.DEBUG)\n",
    "logger = logging.getLogger(__name__)\n",
    "\n",
    "\n",
    "STATUS_URL = \"https://api.nvcf.nvidia.com/v2/nvcf/pexec/status/{task_id}\"\n",
    "    "
   ]
  },
  {
   "cell_type": "code",
   "execution_count": null,
   "metadata": {},
   "outputs": [],
   "source": [
    "boltz2_url = \"https://health.api.nvidia.com/v1/biology/mit/boltz2/predict\"\n",
    "NVCF_POLL_SECONDS = 300\n",
    "MANUAL_TIMEOUT_SECONDS = 400\n",
    "\n",
    "payload = {\n",
    "    \"polymers\": [\n",
    "        {\n",
    "        \"id\": \"A\",\n",
    "        \"molecule_type\": \"protein\", \n",
    "        \"sequence\": sequence,\n",
    "        \"msa\": {\n",
    "            \"uniref90\": {\n",
    "                \"a3m\": {\n",
    "                    \"alignment\": merged_alignments_protein[0],\n",
    "                    \"format\": \"a3m\",\n",
    "                    }\n",
    "                }\n",
    "            }\n",
    "        }\n",
    "    ],\n",
    "    \"ligands\": [\n",
    "        {\n",
    "        \"smiles\": ligand_smiles,\n",
    "        \"id\": \"L1\",\n",
    "        \"predict_affinity\" : True\n",
    "        }\n",
    "    ],\n",
    "    \"recycling_steps\": 3,\n",
    "    \"sampling_steps\": 20,\n",
    "    \"diffusion_samples\": 1,\n",
    "    \"step_scale\": 1.64,\n",
    "    \"without_potentials\": True,\n",
    "}\n",
    "\n",
    "headers = {\n",
    "    \"Authorization\": \"Bearer $API_KEY_REQUIRED_IF_EXECUTING_OUTSIDE_NGC\",\n",
    "    \"NVCF-POLL-SECONDS\": f\"{NVCF_POLL_SECONDS}\",\n",
    "    \"Content-Type\": \"application/json\"\n",
    "}\n",
    "\n",
    "# Call BOLTZ-2 NIM\n",
    "code, response = await client.post(boltz2_url,\n",
    "                            json=payload,\n",
    "                            headers=headers,\n",
    "                            timeout=MANUAL_TIMEOUT_SECONDS)\n",
    "\n",
    "if code == 200:\n",
    "    print(f\"Request succeeded, returned {code}\")\n",
    "    response_dict = response.json()\n",
    "    with open(output_file, 'w') as json_file:\n",
    "        json.dump(response_dict, json_file, indent=4)\n",
    "    \n",
    "    # Print information about the returned structures\n",
    "    print(f\"Number of structures returned: {len(response_dict['structures'])}\")\n",
    "    print(f\"Number of confidence scores: {len(response_dict['confidence_scores'])}\")\n",
    "    \n",
    "    # Print the first structure's format and length\n",
    "    if response_dict['structures']:\n",
    "        first_structure = response_dict['structures'][0]\n",
    "        print(f\"First structure format: {first_structure['format']}\")\n",
    "        print(f\"First structure length: {len(first_structure['structure'])} characters\")\n",
    "    \n",
    "    # Print confidence scores\n",
    "    print(f\"Confidence scores: {response_dict['confidence_scores']}\")"
   ]
  },
  {
   "cell_type": "code",
   "execution_count": null,
   "metadata": {},
   "outputs": [],
   "source": []
  },
  {
   "cell_type": "code",
   "execution_count": null,
   "metadata": {},
   "outputs": [],
   "source": []
  },
  {
   "cell_type": "code",
   "execution_count": null,
   "metadata": {},
   "outputs": [],
   "source": []
  },
  {
   "cell_type": "code",
   "execution_count": null,
   "metadata": {},
   "outputs": [],
   "source": []
  },
  {
   "cell_type": "markdown",
   "metadata": {},
   "source": []
  },
  {
   "cell_type": "code",
   "execution_count": null,
   "metadata": {},
   "outputs": [],
   "source": []
  }
 ],
 "metadata": {
  "kernelspec": {
   "display_name": "Python 3",
   "language": "python",
   "name": "python3"
  },
  "language_info": {
   "codemirror_mode": {
    "name": "ipython",
    "version": 3
   },
   "file_extension": ".py",
   "mimetype": "text/x-python",
   "name": "python",
   "nbconvert_exporter": "python",
   "pygments_lexer": "ipython3",
   "version": "3.10.2"
  }
 },
 "nbformat": 4,
 "nbformat_minor": 2
}
